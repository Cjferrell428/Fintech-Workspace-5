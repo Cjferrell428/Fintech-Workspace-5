{
 "cells": [
  {
   "cell_type": "markdown",
   "metadata": {},
   "source": [
    "# Financial Planning with APIs and Simulations\n",
    "\n",
    "In this Challenge, you’ll create two financial analysis tools by using a single Jupyter notebook:\n",
    "\n",
    "Part 1: A financial planner for emergencies. The members will be able to use this tool to visualize their current savings. The members can then determine if they have enough reserves for an emergency fund.\n",
    "\n",
    "Part 2: A financial planner for retirement. This tool will forecast the performance of their retirement portfolio in 30 years. To do this, the tool will make an Alpaca API call via the Alpaca SDK to get historical price data for use in Monte Carlo simulations.\n",
    "\n",
    "You’ll use the information from the Monte Carlo simulation to answer questions about the portfolio in your Jupyter notebook.\n",
    "\n"
   ]
  },
  {
   "cell_type": "code",
   "execution_count": 1,
   "metadata": {},
   "outputs": [],
   "source": [
    "# Import the required libraries and dependencies\n",
    "import os\n",
    "import requests\n",
    "import json\n",
    "import pandas as pd\n",
    "from dotenv import load_dotenv\n",
    "import alpaca_trade_api as tradeapi\n",
    "from MCForecastTools import MCSimulation\n",
    "\n",
    "%matplotlib inline"
   ]
  },
  {
   "cell_type": "code",
   "execution_count": 14,
   "metadata": {},
   "outputs": [
    {
     "data": {
      "text/plain": [
       "True"
      ]
     },
     "execution_count": 14,
     "metadata": {},
     "output_type": "execute_result"
    }
   ],
   "source": [
    "# Load the environment variables from the .env file\n",
    "#by calling the load_dotenv function\n",
    "load_dotenv()"
   ]
  },
  {
   "cell_type": "markdown",
   "metadata": {},
   "source": [
    "## Part 1: Create a Financial Planner for Emergencies"
   ]
  },
  {
   "cell_type": "markdown",
   "metadata": {},
   "source": [
    "### Evaluate the Cryptocurrency Wallet by Using the Requests Library\n",
    "\n",
    "In this section, you’ll determine the current value of a member’s cryptocurrency wallet. You’ll collect the current prices for the Bitcoin and Ethereum cryptocurrencies by using the Python Requests library. For the prototype, you’ll assume that the member holds the 1.2 Bitcoins (BTC) and 5.3 Ethereum coins (ETH). To do all this, complete the following steps:\n",
    "\n",
    "1. Create a variable named `monthly_income`, and set its value to `12000`.\n",
    "\n",
    "2. Use the Requests library to get the current price (in US dollars) of Bitcoin (BTC) and Ethereum (ETH) by using the API endpoints that the starter code supplies.\n",
    "\n",
    "3. Navigate the JSON response object to access the current price of each coin, and store each in a variable.\n",
    "\n",
    "    > **Hint** Note the specific identifier for each cryptocurrency in the API JSON response. The Bitcoin identifier is `1`, and the Ethereum identifier is `1027`.\n",
    "\n",
    "4. Calculate the value, in US dollars, of the current amount of each cryptocurrency and of the entire cryptocurrency wallet.\n",
    "\n"
   ]
  },
  {
   "cell_type": "code",
   "execution_count": 3,
   "metadata": {},
   "outputs": [],
   "source": [
    "# The current number of coins for each cryptocurrency asset held in the portfolio.\n",
    "btc_coins = 1.2\n",
    "eth_coins = 5.3"
   ]
  },
  {
   "cell_type": "markdown",
   "metadata": {},
   "source": [
    "#### Step 1: Create a variable named `monthly_income`, and set its value to `12000`."
   ]
  },
  {
   "cell_type": "code",
   "execution_count": 4,
   "metadata": {},
   "outputs": [],
   "source": [
    "# The monthly amount for the member's household income\n",
    "monthly_income = 12000\n"
   ]
  },
  {
   "cell_type": "markdown",
   "metadata": {},
   "source": [
    "#### Review the endpoint URLs for the API calls to Free Crypto API in order to get the current pricing information for both BTC and ETH."
   ]
  },
  {
   "cell_type": "code",
   "execution_count": 5,
   "metadata": {},
   "outputs": [],
   "source": [
    "# The Free Crypto API Call endpoint URLs for the held cryptocurrency assets\n",
    "btc_url = \"https://api.alternative.me/v2/ticker/Bitcoin/?convert=USD\"\n",
    "eth_url = \"https://api.alternative.me/v2/ticker/Ethereum/?convert=USD\""
   ]
  },
  {
   "cell_type": "markdown",
   "metadata": {},
   "source": [
    "#### Step 2. Use the Requests library to get the current price (in US dollars) of Bitcoin (BTC) and Ethereum (ETH) by using the API endpoints that the starter code supplied."
   ]
  },
  {
   "cell_type": "code",
   "execution_count": 6,
   "metadata": {},
   "outputs": [
    {
     "name": "stdout",
     "output_type": "stream",
     "text": [
      "{\n",
      "    \"data\": {\n",
      "        \"1\": {\n",
      "            \"circulating_supply\": 18745343,\n",
      "            \"id\": 1,\n",
      "            \"last_updated\": 1625091252,\n",
      "            \"max_supply\": 21000000,\n",
      "            \"name\": \"Bitcoin\",\n",
      "            \"quotes\": {\n",
      "                \"USD\": {\n",
      "                    \"market_cap\": 653555226032,\n",
      "                    \"percent_change_1h\": -0.183285576711663,\n",
      "                    \"percent_change_24h\": -3.94439742460896,\n",
      "                    \"percent_change_7d\": 6.96104947079976,\n",
      "                    \"percentage_change_1h\": -0.183285576711663,\n",
      "                    \"percentage_change_24h\": -3.94439742460896,\n",
      "                    \"percentage_change_7d\": 6.96104947079976,\n",
      "                    \"price\": 34771.0,\n",
      "                    \"volume_24h\": 30843464544\n",
      "                }\n",
      "            },\n",
      "            \"rank\": 1,\n",
      "            \"symbol\": \"BTC\",\n",
      "            \"total_supply\": 18745343,\n",
      "            \"website_slug\": \"bitcoin\"\n",
      "        }\n",
      "    },\n",
      "    \"metadata\": {\n",
      "        \"error\": null,\n",
      "        \"num_cryptocurrencies\": 1279,\n",
      "        \"timestamp\": 1625091252\n",
      "    }\n",
      "}\n"
     ]
    }
   ],
   "source": [
    "# Using the Python requests library, make an API call to access the current price of BTC\n",
    "btc_response = requests.get(btc_url).json()\n",
    "\n",
    "# Use the json.dumps function to review the response data from the API call\n",
    "# Use the indent and sort_keys parameters to make the response object readable\n",
    "print(json.dumps(btc_response, indent=4, sort_keys=True))\n"
   ]
  },
  {
   "cell_type": "code",
   "execution_count": 7,
   "metadata": {},
   "outputs": [
    {
     "name": "stdout",
     "output_type": "stream",
     "text": [
      "{\n",
      "    \"data\": {\n",
      "        \"1027\": {\n",
      "            \"circulating_supply\": 116507158,\n",
      "            \"id\": 1027,\n",
      "            \"last_updated\": 1625091248,\n",
      "            \"max_supply\": 0,\n",
      "            \"name\": \"Ethereum\",\n",
      "            \"quotes\": {\n",
      "                \"USD\": {\n",
      "                    \"market_cap\": 263567448019,\n",
      "                    \"percent_change_1h\": -0.0502986125003234,\n",
      "                    \"percent_change_24h\": 2.15261629813205,\n",
      "                    \"percent_change_7d\": 20.3705238216434,\n",
      "                    \"percentage_change_1h\": -0.0502986125003234,\n",
      "                    \"percentage_change_24h\": 2.15261629813205,\n",
      "                    \"percentage_change_7d\": 20.3705238216434,\n",
      "                    \"price\": 2257.38,\n",
      "                    \"volume_24h\": 28437170129\n",
      "                }\n",
      "            },\n",
      "            \"rank\": 2,\n",
      "            \"symbol\": \"ETH\",\n",
      "            \"total_supply\": 116507158,\n",
      "            \"website_slug\": \"ethereum\"\n",
      "        }\n",
      "    },\n",
      "    \"metadata\": {\n",
      "        \"error\": null,\n",
      "        \"num_cryptocurrencies\": 1279,\n",
      "        \"timestamp\": 1625091248\n",
      "    }\n",
      "}\n"
     ]
    }
   ],
   "source": [
    "# Using the Python requests library, make an API call to access the current price ETH\n",
    "eth_response = requests.get(eth_url).json()\n",
    "\n",
    "# Use the json.dumps function to review the response data from the API call\n",
    "# Use the indent and sort_keys parameters to make the response object readable\n",
    "print(json.dumps(eth_response, indent=4, sort_keys=True))\n"
   ]
  },
  {
   "cell_type": "markdown",
   "metadata": {},
   "source": [
    "#### Step 3: Navigate the JSON response object to access the current price of each coin, and store each in a variable."
   ]
  },
  {
   "cell_type": "code",
   "execution_count": 11,
   "metadata": {},
   "outputs": [
    {
     "name": "stdout",
     "output_type": "stream",
     "text": [
      "The price for BTC is $34771.0\n"
     ]
    }
   ],
   "source": [
    "# Navigate the BTC response object to access the current price of BTC\n",
    "btc_price = btc_response['data']['1']['quotes']['USD']['price']\n",
    "\n",
    "# Print the current price of BTC\n",
    "print(f\"The price for BTC is ${btc_price}\")\n"
   ]
  },
  {
   "cell_type": "code",
   "execution_count": 13,
   "metadata": {},
   "outputs": [
    {
     "name": "stdout",
     "output_type": "stream",
     "text": [
      "The price for ETH is $2257.38\n"
     ]
    }
   ],
   "source": [
    "# Navigate the BTC response object to access the current price of ETH\n",
    "eth_price = eth_response['data']['1027']['quotes']['USD']['price']\n",
    "\n",
    "# Print the current price of ETH\n",
    "print(f\"The price for ETH is ${eth_price}\")\n"
   ]
  },
  {
   "cell_type": "markdown",
   "metadata": {},
   "source": [
    "### Step 4: Calculate the value, in US dollars, of the current amount of each cryptocurrency and of the entire cryptocurrency wallet."
   ]
  },
  {
   "cell_type": "code",
   "execution_count": 50,
   "metadata": {},
   "outputs": [
    {
     "name": "stdout",
     "output_type": "stream",
     "text": [
      "The current value of holding in BTC is $41725.2\n"
     ]
    }
   ],
   "source": [
    "# Compute the current value of the BTC holding \n",
    "btc_value = btc_price * btc_coins\n",
    "\n",
    "# Print current value of your holding in BTC\n",
    "print(f\"The current value of holding in BTC is ${btc_value}\")\n"
   ]
  },
  {
   "cell_type": "code",
   "execution_count": 51,
   "metadata": {},
   "outputs": [
    {
     "name": "stdout",
     "output_type": "stream",
     "text": [
      "The current value of holding in ETH is $11964.114\n"
     ]
    }
   ],
   "source": [
    "# Compute the current value of the ETH holding \n",
    "eth_value = eth_price * eth_coins\n",
    "\n",
    "# Print current value of your holding in ETH\n",
    "print(f\"The current value of holding in ETH is ${eth_value}\")\n"
   ]
  },
  {
   "cell_type": "code",
   "execution_count": 52,
   "metadata": {},
   "outputs": [
    {
     "name": "stdout",
     "output_type": "stream",
     "text": [
      "The current value of cryptocurrency wallet is $53689.314\n"
     ]
    }
   ],
   "source": [
    "# Compute the total value of the cryptocurrency wallet\n",
    "# Add the value of the BTC holding to the value of the ETH holding\n",
    "total_crypto_wallet = eth_value + btc_value\n",
    "\n",
    "# Print current cryptocurrency wallet balance\n",
    "print(f\"The current value of cryptocurrency wallet is ${total_crypto_wallet}\")\n"
   ]
  },
  {
   "cell_type": "markdown",
   "metadata": {},
   "source": [
    "### Evaluate the Stock and Bond Holdings by Using the Alpaca SDK\n",
    "\n",
    "In this section, you’ll determine the current value of a member’s stock and bond holdings. You’ll make an API call to Alpaca via the Alpaca SDK to get the current closing prices of the SPDR S&P 500 ETF Trust (ticker: SPY) and of the iShares Core US Aggregate Bond ETF (ticker: AGG). For the prototype, assume that the member holds 110 shares of SPY, which represents the stock portion of their portfolio, and 200 shares of AGG, which represents the bond portion. To do all this, complete the following steps:\n",
    "\n",
    "1. In the `Starter_Code` folder, create an environment file (`.env`) to store the values of your Alpaca API key and Alpaca secret key.\n",
    "\n",
    "2. Set the variables for the Alpaca API and secret keys. Using the Alpaca SDK, create the Alpaca `tradeapi.REST` object. In this object, include the parameters for the Alpaca API key, the secret key, and the version number.\n",
    "\n",
    "3. Set the following parameters for the Alpaca API call:\n",
    "\n",
    "    - `tickers`: Use the tickers for the member’s stock and bond holdings.\n",
    "\n",
    "    - `timeframe`: Use a time frame of one day.\n",
    "\n",
    "    - `start_date` and `end_date`: Use the same date for these parameters, and format them with the date of the previous weekday (or `2020-08-07`). This is because you want the one closing price for the most-recent trading day.\n",
    "\n",
    "4. Get the current closing prices for `SPY` and `AGG` by using the Alpaca `get_barset` function. Format the response as a Pandas DataFrame by including the `df` property at the end of the `get_barset` function.\n",
    "\n",
    "5. Navigating the Alpaca response DataFrame, select the `SPY` and `AGG` closing prices, and store them as variables.\n",
    "\n",
    "6. Calculate the value, in US dollars, of the current amount of shares in each of the stock and bond portions of the portfolio, and print the results.\n"
   ]
  },
  {
   "cell_type": "markdown",
   "metadata": {},
   "source": [
    "#### Review the total number of shares held in both (SPY) and (AGG)."
   ]
  },
  {
   "cell_type": "code",
   "execution_count": 53,
   "metadata": {},
   "outputs": [],
   "source": [
    "# Current amount of shares held in both the stock (SPY) and bond (AGG) portion of the portfolio.\n",
    "spy_shares = 110\n",
    "agg_shares = 200\n"
   ]
  },
  {
   "cell_type": "markdown",
   "metadata": {},
   "source": [
    "#### Step 1: In the `Starter_Code` folder, create an environment file (`.env`) to store the values of your Alpaca API key and Alpaca secret key."
   ]
  },
  {
   "cell_type": "markdown",
   "metadata": {},
   "source": [
    "#### Step 2: Set the variables for the Alpaca API and secret keys. Using the Alpaca SDK, create the Alpaca `tradeapi.REST` object. In this object, include the parameters for the Alpaca API key, the secret key, and the version number."
   ]
  },
  {
   "cell_type": "code",
   "execution_count": 54,
   "metadata": {},
   "outputs": [],
   "source": [
    "# Set the variables for the Alpaca API and secret keys\n",
    "alpaca_api_key = os.getenv(\"ALPACA_API_KEY\")\n",
    "alpaca_secret_key = os.getenv(\"ALPACA_SECRET_KEY\")\n",
    "\n",
    "# Create the Alpaca tradeapi.REST object\n",
    "alpaca = tradeapi.REST(alpaca_api_key,alpaca_secret_key, api_version=\"v2\")\n"
   ]
  },
  {
   "cell_type": "markdown",
   "metadata": {},
   "source": [
    "#### Step 3: Set the following parameters for the Alpaca API call:\n",
    "\n",
    "- `tickers`: Use the tickers for the member’s stock and bond holdings.\n",
    "\n",
    "- `timeframe`: Use a time frame of one day.\n",
    "\n",
    "- `start_date` and `end_date`: Use the same date for these parameters, and format them with the date of the previous weekday (or `2020-08-07`). This is because you want the one closing price for the most-recent trading day.\n"
   ]
  },
  {
   "cell_type": "code",
   "execution_count": 55,
   "metadata": {},
   "outputs": [],
   "source": [
    "# Set the tickers for both the bond and stock portion of the portfolio\n",
    "tickers = ['SPY', 'AGG']\n",
    "\n",
    "# Set timeframe to 1D \n",
    "timeframe = \"1D\"\n",
    "\n",
    "# Format current date as ISO format\n",
    "# Set both the start and end date at the date of your prior weekday \n",
    "# This will give you the closing price of the previous trading day\n",
    "# Alternatively you can use a start and end date of 2020-08-07\n",
    "start_date = pd.Timestamp(\"2021-06-30\", tz = 'America/New_York').isoformat()\n",
    "end_date = pd.Timestamp(\"2021-06-30\", tz = 'America/New_York').isoformat()\n"
   ]
  },
  {
   "cell_type": "markdown",
   "metadata": {},
   "source": [
    "#### Step 4: Get the current closing prices for `SPY` and `AGG` by using the Alpaca `get_barset` function. Format the response as a Pandas DataFrame by including the `df` property at the end of the `get_barset` function."
   ]
  },
  {
   "cell_type": "code",
   "execution_count": 56,
   "metadata": {},
   "outputs": [
    {
     "data": {
      "text/html": [
       "<div>\n",
       "<style scoped>\n",
       "    .dataframe tbody tr th:only-of-type {\n",
       "        vertical-align: middle;\n",
       "    }\n",
       "\n",
       "    .dataframe tbody tr th {\n",
       "        vertical-align: top;\n",
       "    }\n",
       "\n",
       "    .dataframe thead tr th {\n",
       "        text-align: left;\n",
       "    }\n",
       "\n",
       "    .dataframe thead tr:last-of-type th {\n",
       "        text-align: right;\n",
       "    }\n",
       "</style>\n",
       "<table border=\"1\" class=\"dataframe\">\n",
       "  <thead>\n",
       "    <tr>\n",
       "      <th></th>\n",
       "      <th colspan=\"5\" halign=\"left\">AGG</th>\n",
       "      <th colspan=\"5\" halign=\"left\">SPY</th>\n",
       "    </tr>\n",
       "    <tr>\n",
       "      <th></th>\n",
       "      <th>open</th>\n",
       "      <th>high</th>\n",
       "      <th>low</th>\n",
       "      <th>close</th>\n",
       "      <th>volume</th>\n",
       "      <th>open</th>\n",
       "      <th>high</th>\n",
       "      <th>low</th>\n",
       "      <th>close</th>\n",
       "      <th>volume</th>\n",
       "    </tr>\n",
       "    <tr>\n",
       "      <th>time</th>\n",
       "      <th></th>\n",
       "      <th></th>\n",
       "      <th></th>\n",
       "      <th></th>\n",
       "      <th></th>\n",
       "      <th></th>\n",
       "      <th></th>\n",
       "      <th></th>\n",
       "      <th></th>\n",
       "      <th></th>\n",
       "    </tr>\n",
       "  </thead>\n",
       "  <tbody>\n",
       "    <tr>\n",
       "      <th>2021-06-30 00:00:00-04:00</th>\n",
       "      <td>115.36</td>\n",
       "      <td>115.45</td>\n",
       "      <td>115.3</td>\n",
       "      <td>115.35</td>\n",
       "      <td>5984381</td>\n",
       "      <td>427.2</td>\n",
       "      <td>428.78</td>\n",
       "      <td>427.18</td>\n",
       "      <td>428.08</td>\n",
       "      <td>46776402</td>\n",
       "    </tr>\n",
       "  </tbody>\n",
       "</table>\n",
       "</div>"
      ],
      "text/plain": [
       "                              AGG                                    SPY  \\\n",
       "                             open    high    low   close   volume   open   \n",
       "time                                                                       \n",
       "2021-06-30 00:00:00-04:00  115.36  115.45  115.3  115.35  5984381  427.2   \n",
       "\n",
       "                                                             \n",
       "                             high     low   close    volume  \n",
       "time                                                         \n",
       "2021-06-30 00:00:00-04:00  428.78  427.18  428.08  46776402  "
      ]
     },
     "execution_count": 56,
     "metadata": {},
     "output_type": "execute_result"
    }
   ],
   "source": [
    "# Use the Alpaca get_barset function to get current closing prices the portfolio\n",
    "# Be sure to set the `df` property after the function to format the response object as a DataFrame\n",
    "portfolio_df = alpaca.get_barset(\n",
    "    tickers,\n",
    "    timeframe,\n",
    "    start = start_date,\n",
    "    end = end_date\n",
    ").df\n",
    "\n",
    "# Review the first 5 rows of the Alpaca DataFrame\n",
    "portfolio_df\n"
   ]
  },
  {
   "cell_type": "markdown",
   "metadata": {},
   "source": [
    "#### Step 5: Navigating the Alpaca response DataFrame, select the `SPY` and `AGG` closing prices, and store them as variables."
   ]
  },
  {
   "cell_type": "code",
   "execution_count": 57,
   "metadata": {},
   "outputs": [
    {
     "name": "stdout",
     "output_type": "stream",
     "text": [
      "time\n",
      "2021-06-30 00:00:00-04:00    115.35\n",
      "Name: close, dtype: float64\n"
     ]
    }
   ],
   "source": [
    "# Access the closing price for AGG from the Alpaca DataFrame\n",
    "# Converting the value to a floating point number\n",
    "agg_close_price = portfolio_df['AGG']['close']\n",
    "\n",
    "# Print the AGG closing price\n",
    "print(agg_close_price)\n"
   ]
  },
  {
   "cell_type": "code",
   "execution_count": 58,
   "metadata": {},
   "outputs": [
    {
     "name": "stdout",
     "output_type": "stream",
     "text": [
      "time\n",
      "2021-06-30 00:00:00-04:00    428.08\n",
      "Name: close, dtype: float64\n"
     ]
    }
   ],
   "source": [
    "# Access the closing price for SPY from the Alpaca DataFrame\n",
    "# Converting the value to a floating point number\n",
    "spy_close_price = portfolio_df['SPY']['close']\n",
    "\n",
    "# Print the SPY closing price\n",
    "print(spy_close_price)\n"
   ]
  },
  {
   "cell_type": "markdown",
   "metadata": {},
   "source": [
    "#### Step 6: Calculate the value, in US dollars, of the current amount of shares in each of the stock and bond portions of the portfolio, and print the results."
   ]
  },
  {
   "cell_type": "code",
   "execution_count": 59,
   "metadata": {},
   "outputs": [
    {
     "name": "stdout",
     "output_type": "stream",
     "text": [
      "The current value of the AGG shares is $23070.0\n"
     ]
    }
   ],
   "source": [
    "# Calculate the current value of the bond portion of the portfolio\n",
    "agg_value = float(agg_close_price * agg_shares)\n",
    "\n",
    "# Print the current value of the bond portfolio\n",
    "print(f'The current value of the AGG shares is ${agg_value}')\n"
   ]
  },
  {
   "cell_type": "code",
   "execution_count": 60,
   "metadata": {},
   "outputs": [
    {
     "name": "stdout",
     "output_type": "stream",
     "text": [
      "The current value of the SPY shares is $47088.799999999996\n"
     ]
    }
   ],
   "source": [
    "# Calculate the current value of the stock portion of the portfolio\n",
    "spy_value = float(spy_close_price * spy_shares)\n",
    "\n",
    "# Print the current value of the stock portfolio\n",
    "print(f'The current value of the SPY shares is ${spy_value}')\n"
   ]
  },
  {
   "cell_type": "code",
   "execution_count": 61,
   "metadata": {},
   "outputs": [
    {
     "name": "stdout",
     "output_type": "stream",
     "text": [
      "The current balance of the stock and bonds portion is $70158.79999999999\n"
     ]
    }
   ],
   "source": [
    "# Calculate the total value of the stock and bond portion of the portfolio\n",
    "total_stocks_bonds = float(agg_value + spy_value)\n",
    "\n",
    "# Print the current balance of the stock and bond portion of the portfolio\n",
    "print(f'The current balance of the stock and bonds portion is ${total_stocks_bonds}')\n"
   ]
  },
  {
   "cell_type": "code",
   "execution_count": 62,
   "metadata": {},
   "outputs": [
    {
     "name": "stdout",
     "output_type": "stream",
     "text": [
      "The current value of the total portfolio is $123848.11399999999\n"
     ]
    }
   ],
   "source": [
    "# Calculate the total value of the member's entire savings portfolio\n",
    "# Add the value of the cryptocurrency walled to the value of the total stocks and bonds\n",
    "total_portfolio = float(total_crypto_wallet + total_stocks_bonds)\n",
    "\n",
    "# Print current cryptocurrency wallet balance\n",
    "print(f'The current value of the total portfolio is ${total_portfolio}')\n"
   ]
  },
  {
   "cell_type": "markdown",
   "metadata": {},
   "source": [
    "### Evaluate the Emergency Fund\n",
    "\n",
    "In this section, you’ll use the valuations for the cryptocurrency wallet and for the stock and bond portions of the portfolio to determine if the credit union member has enough savings to build an emergency fund into their financial plan. To do this, complete the following steps:\n",
    "\n",
    "1. Create a Python list named `savings_data` that has two elements. The first element contains the total value of the cryptocurrency wallet. The second element contains the total value of the stock and bond portions of the portfolio.\n",
    "\n",
    "2. Use the `savings_data` list to create a Pandas DataFrame named `savings_df`, and then display this DataFrame. The function to create the DataFrame should take the following three parameters:\n",
    "\n",
    "    - `savings_data`: Use the list that you just created.\n",
    "\n",
    "    - `columns`: Set this parameter equal to a Python list with a single value called `amount`.\n",
    "\n",
    "    - `index`: Set this parameter equal to a Python list with the values of `crypto` and `stock/bond`.\n",
    "\n",
    "3. Use the `savings_df` DataFrame to plot a pie chart that visualizes the composition of the member’s portfolio. The y-axis of the pie chart uses `amount`. Be sure to add a title.\n",
    "\n",
    "4. Using Python, determine if the current portfolio has enough to create an emergency fund as part of the member’s financial plan. Ideally, an emergency fund should equal to three times the member’s monthly income. To do this, implement the following steps:\n",
    "\n",
    "    1. Create a variable named `emergency_fund_value`, and set it equal to three times the value of the member’s `monthly_income` of $12000. (You set this earlier in Part 1).\n",
    "\n",
    "    2. Create a series of three if statements to determine if the member’s total portfolio is large enough to fund the emergency portfolio:\n",
    "\n",
    "        1. If the total portfolio value is greater than the emergency fund value, display a message congratulating the member for having enough money in this fund.\n",
    "\n",
    "        2. Else if the total portfolio value is equal to the emergency fund value, display a message congratulating the member on reaching this important financial goal.\n",
    "\n",
    "        3. Else the total portfolio is less than the emergency fund value, so display a message showing how many dollars away the member is from reaching the goal. (Subtract the total portfolio value from the emergency fund value.)\n"
   ]
  },
  {
   "cell_type": "markdown",
   "metadata": {},
   "source": [
    "#### Step 1: Create a Python list named `savings_data` that has two elements. The first element contains the total value of the cryptocurrency wallet. The second element contains the total value of the stock and bond portions of the portfolio."
   ]
  },
  {
   "cell_type": "code",
   "execution_count": 63,
   "metadata": {},
   "outputs": [
    {
     "data": {
      "text/plain": [
       "[53689.314, 70158.79999999999]"
      ]
     },
     "execution_count": 63,
     "metadata": {},
     "output_type": "execute_result"
    }
   ],
   "source": [
    "# Consolidate financial assets data into a Python list\n",
    "savings_data = [total_crypto_wallet, total_stocks_bonds]\n",
    "\n",
    "# Review the Python list savings_data\n",
    "savings_data\n",
    "    "
   ]
  },
  {
   "cell_type": "markdown",
   "metadata": {},
   "source": [
    "#### Step 2: Use the `savings_data` list to create a Pandas DataFrame named `savings_df`, and then display this DataFrame. The function to create the DataFrame should take the following three parameters:\n",
    "\n",
    "- `savings_data`: Use the list that you just created.\n",
    "\n",
    "- `columns`: Set this parameter equal to a Python list with a single value called `amount`.\n",
    "\n",
    "- `index`: Set this parameter equal to a Python list with the values of `crypto` and `stock/bond`.\n"
   ]
  },
  {
   "cell_type": "code",
   "execution_count": 64,
   "metadata": {},
   "outputs": [
    {
     "data": {
      "text/html": [
       "<div>\n",
       "<style scoped>\n",
       "    .dataframe tbody tr th:only-of-type {\n",
       "        vertical-align: middle;\n",
       "    }\n",
       "\n",
       "    .dataframe tbody tr th {\n",
       "        vertical-align: top;\n",
       "    }\n",
       "\n",
       "    .dataframe thead th {\n",
       "        text-align: right;\n",
       "    }\n",
       "</style>\n",
       "<table border=\"1\" class=\"dataframe\">\n",
       "  <thead>\n",
       "    <tr style=\"text-align: right;\">\n",
       "      <th></th>\n",
       "      <th>amount</th>\n",
       "    </tr>\n",
       "  </thead>\n",
       "  <tbody>\n",
       "    <tr>\n",
       "      <th>crypto</th>\n",
       "      <td>53689.314</td>\n",
       "    </tr>\n",
       "    <tr>\n",
       "      <th>stock/bond</th>\n",
       "      <td>70158.800</td>\n",
       "    </tr>\n",
       "  </tbody>\n",
       "</table>\n",
       "</div>"
      ],
      "text/plain": [
       "               amount\n",
       "crypto      53689.314\n",
       "stock/bond  70158.800"
      ]
     },
     "execution_count": 64,
     "metadata": {},
     "output_type": "execute_result"
    }
   ],
   "source": [
    "# Create a Pandas DataFrame called savings_df \n",
    "savings_df = pd.DataFrame(\n",
    "    savings_data,\n",
    "    columns=['amount'],\n",
    "    index= ['crypto', 'stock/bond'])\n",
    "\n",
    "# Display the savings_df DataFrame\n",
    "savings_df\n"
   ]
  },
  {
   "cell_type": "markdown",
   "metadata": {},
   "source": [
    "#### Step 3: Use the `savings_df` DataFrame to plot a pie chart that visualizes the composition of the member’s portfolio. The y-axis of the pie chart uses `amount`. Be sure to add a title."
   ]
  },
  {
   "cell_type": "code",
   "execution_count": 65,
   "metadata": {},
   "outputs": [
    {
     "data": {
      "text/plain": [
       "<AxesSubplot:title={'center':'Total value of portfolio'}, ylabel='amount'>"
      ]
     },
     "execution_count": 65,
     "metadata": {},
     "output_type": "execute_result"
    },
    {
     "data": {
      "image/png": "[encoded data removed]",
      "text/plain": [
       "<Figure size 432x288 with 1 Axes>"
      ]
     },
     "metadata": {},
     "output_type": "display_data"
    }
   ],
   "source": [
    "# Plot the total value of the member's portfolio (crypto and stock/bond) in a pie chart\n",
    "savings_df.plot(kind='pie', y='amount', title='Total value of portfolio')\n"
   ]
  },
  {
   "cell_type": "markdown",
   "metadata": {},
   "source": [
    "#### Step 4: Using Python, determine if the current portfolio has enough to create an emergency fund as part of the member’s financial plan. Ideally, an emergency fund should equal to three times the member’s monthly income. To do this, implement the following steps:\n",
    "\n",
    "Step 1. Create a variable named `emergency_fund_value`, and set it equal to three times the value of the member’s `monthly_income` of 12000. (You set this earlier in Part 1).\n",
    "\n",
    "Step 2. Create a series of three if statements to determine if the member’s total portfolio is large enough to fund the emergency portfolio:\n",
    "\n",
    "* If the total portfolio value is greater than the emergency fund value, display a message congratulating the member for having enough money in this fund.\n",
    "\n",
    "* Else if the total portfolio value is equal to the emergency fund value, display a message congratulating the member on reaching this important financial goal.\n",
    "\n",
    "* Else the total portfolio is less than the emergency fund value, so display a message showing how many dollars away the member is from reaching the goal. (Subtract the total portfolio value from the emergency fund value.)\n"
   ]
  },
  {
   "cell_type": "markdown",
   "metadata": {},
   "source": [
    "##### Step 4-1: Create a variable named `emergency_fund_value`, and set it equal to three times the value of the member’s `monthly_income` of 12000. (You set this earlier in Part 1)."
   ]
  },
  {
   "cell_type": "code",
   "execution_count": 67,
   "metadata": {},
   "outputs": [
    {
     "name": "stdout",
     "output_type": "stream",
     "text": [
      "36000\n"
     ]
    }
   ],
   "source": [
    "# Create a variable named emergency_fund_value\n",
    "emergency_fund_value = monthly_income * 3\n",
    "print(emergency_fund_value)"
   ]
  },
  {
   "cell_type": "markdown",
   "metadata": {},
   "source": [
    "##### Step 4-2: Create a series of three if statements to determine if the member’s total portfolio is large enough to fund the emergency portfolio:\n",
    "\n",
    "* If the total portfolio value is greater than the emergency fund value, display a message congratulating the member for having enough money in this fund.\n",
    "\n",
    "* Else if the total portfolio value is equal to the emergency fund value, display a message congratulating the member on reaching this important financial goal.\n",
    "\n",
    "* Else the total portfolio is less than the emergency fund value, so display a message showing how many dollars away the member is from reaching the goal. (Subtract the total portfolio value from the emergency fund value.)"
   ]
  },
  {
   "cell_type": "code",
   "execution_count": 68,
   "metadata": {},
   "outputs": [
    {
     "name": "stdout",
     "output_type": "stream",
     "text": [
      "Congratulations you have enough money in the fund\n"
     ]
    }
   ],
   "source": [
    "# Evaluate the possibility of creating an emergency fund with 3 conditions:\n",
    "if total_portfolio > emergency_fund_value:\n",
    "    print('Congratulations you have enough money in the fund')\n",
    "elif total_portfolio == emergency_fund_value:\n",
    "    print('Congratualtions on reaching this important financial goal')\n",
    "else:\n",
    "    print(f'You are ${emergency_fund_value - total_portfolio} from reaching your goal')\n",
    "\n"
   ]
  },
  {
   "cell_type": "markdown",
   "metadata": {},
   "source": [
    "## Part 2: Create a Financial Planner for Retirement"
   ]
  },
  {
   "cell_type": "markdown",
   "metadata": {},
   "source": [
    "### Create the Monte Carlo Simulation\n",
    "\n",
    "In this section, you’ll use the MCForecastTools library to create a Monte Carlo simulation for the member’s savings portfolio. To do this, complete the following steps:\n",
    "\n",
    "1. Make an API call via the Alpaca SDK to get 10 years of historical closing prices for a traditional 60/40 portfolio split: 60% stocks (SPY) and 40% bonds (AGG).\n",
    "\n",
    "2. Run a Monte Carlo simulation of 500 samples and 30 years for the 60/40 portfolio, and then plot the results.The following image shows the overlay line plot resulting from a simulation with these characteristics. However, because a random number generator is used to run each live Monte Carlo simulation, your image will differ slightly from this exact image:\n",
    "\n",
    "![A screenshot depicts the resulting plot.](Images/5-4-monte-carlo-line-plot.png)\n",
    "\n",
    "3. Plot the probability distribution of the Monte Carlo simulation. Plot the probability distribution of the Monte Carlo simulation. The following image shows the histogram plot resulting from a simulation with these characteristics. However, because a random number generator is used to run each live Monte Carlo simulation, your image will differ slightly from this exact image:\n",
    "\n",
    "![A screenshot depicts the histogram plot.](Images/5-4-monte-carlo-histogram.png)\n",
    "\n",
    "4. Generate the summary statistics for the Monte Carlo simulation.\n",
    "\n"
   ]
  },
  {
   "cell_type": "markdown",
   "metadata": {},
   "source": [
    "#### Step 1: Make an API call via the Alpaca SDK to get 10 years of historical closing prices for a traditional 60/40 portfolio split: 60% stocks (SPY) and 40% bonds (AGG)."
   ]
  },
  {
   "cell_type": "code",
   "execution_count": 73,
   "metadata": {},
   "outputs": [],
   "source": [
    "# Set start and end dates of 10 years back from your current date\n",
    "# Alternatively, you can use an end date of 2020-08-07 and work 10 years back from that date \n",
    "start_date = pd.Timestamp('2011-06-30', tz='America/New_York').isoformat()\n",
    "end_date = pd.Timestamp('2021-06-30', tz='America/New_York').isoformat()\n"
   ]
  },
  {
   "cell_type": "code",
   "execution_count": 74,
   "metadata": {},
   "outputs": [
    {
     "data": {
      "text/html": [
       "<div>\n",
       "<style scoped>\n",
       "    .dataframe tbody tr th:only-of-type {\n",
       "        vertical-align: middle;\n",
       "    }\n",
       "\n",
       "    .dataframe tbody tr th {\n",
       "        vertical-align: top;\n",
       "    }\n",
       "\n",
       "    .dataframe thead tr th {\n",
       "        text-align: left;\n",
       "    }\n",
       "\n",
       "    .dataframe thead tr:last-of-type th {\n",
       "        text-align: right;\n",
       "    }\n",
       "</style>\n",
       "<table border=\"1\" class=\"dataframe\">\n",
       "  <thead>\n",
       "    <tr>\n",
       "      <th></th>\n",
       "      <th colspan=\"5\" halign=\"left\">AGG</th>\n",
       "      <th colspan=\"5\" halign=\"left\">SPY</th>\n",
       "    </tr>\n",
       "    <tr>\n",
       "      <th></th>\n",
       "      <th>open</th>\n",
       "      <th>high</th>\n",
       "      <th>low</th>\n",
       "      <th>close</th>\n",
       "      <th>volume</th>\n",
       "      <th>open</th>\n",
       "      <th>high</th>\n",
       "      <th>low</th>\n",
       "      <th>close</th>\n",
       "      <th>volume</th>\n",
       "    </tr>\n",
       "    <tr>\n",
       "      <th>time</th>\n",
       "      <th></th>\n",
       "      <th></th>\n",
       "      <th></th>\n",
       "      <th></th>\n",
       "      <th></th>\n",
       "      <th></th>\n",
       "      <th></th>\n",
       "      <th></th>\n",
       "      <th></th>\n",
       "      <th></th>\n",
       "    </tr>\n",
       "  </thead>\n",
       "  <tbody>\n",
       "    <tr>\n",
       "      <th>2021-06-24 00:00:00-04:00</th>\n",
       "      <td>115.10</td>\n",
       "      <td>115.17</td>\n",
       "      <td>115.0450</td>\n",
       "      <td>115.07</td>\n",
       "      <td>6672880</td>\n",
       "      <td>424.89</td>\n",
       "      <td>425.5500</td>\n",
       "      <td>424.62</td>\n",
       "      <td>425.09</td>\n",
       "      <td>39863529</td>\n",
       "    </tr>\n",
       "    <tr>\n",
       "      <th>2021-06-25 00:00:00-04:00</th>\n",
       "      <td>115.11</td>\n",
       "      <td>115.13</td>\n",
       "      <td>114.7516</td>\n",
       "      <td>114.89</td>\n",
       "      <td>3987588</td>\n",
       "      <td>425.90</td>\n",
       "      <td>427.0943</td>\n",
       "      <td>425.55</td>\n",
       "      <td>426.57</td>\n",
       "      <td>50460394</td>\n",
       "    </tr>\n",
       "    <tr>\n",
       "      <th>2021-06-28 00:00:00-04:00</th>\n",
       "      <td>115.04</td>\n",
       "      <td>115.23</td>\n",
       "      <td>115.0400</td>\n",
       "      <td>115.16</td>\n",
       "      <td>5523690</td>\n",
       "      <td>427.17</td>\n",
       "      <td>427.6500</td>\n",
       "      <td>425.89</td>\n",
       "      <td>427.48</td>\n",
       "      <td>43937373</td>\n",
       "    </tr>\n",
       "    <tr>\n",
       "      <th>2021-06-29 00:00:00-04:00</th>\n",
       "      <td>115.06</td>\n",
       "      <td>115.25</td>\n",
       "      <td>115.0450</td>\n",
       "      <td>115.25</td>\n",
       "      <td>3469405</td>\n",
       "      <td>427.89</td>\n",
       "      <td>428.5600</td>\n",
       "      <td>427.13</td>\n",
       "      <td>427.68</td>\n",
       "      <td>32097572</td>\n",
       "    </tr>\n",
       "    <tr>\n",
       "      <th>2021-06-30 00:00:00-04:00</th>\n",
       "      <td>115.36</td>\n",
       "      <td>115.45</td>\n",
       "      <td>115.3000</td>\n",
       "      <td>115.35</td>\n",
       "      <td>5984381</td>\n",
       "      <td>427.20</td>\n",
       "      <td>428.7800</td>\n",
       "      <td>427.18</td>\n",
       "      <td>428.08</td>\n",
       "      <td>46776402</td>\n",
       "    </tr>\n",
       "  </tbody>\n",
       "</table>\n",
       "</div>"
      ],
      "text/plain": [
       "                              AGG                                        SPY  \\\n",
       "                             open    high       low   close   volume    open   \n",
       "time                                                                           \n",
       "2021-06-24 00:00:00-04:00  115.10  115.17  115.0450  115.07  6672880  424.89   \n",
       "2021-06-25 00:00:00-04:00  115.11  115.13  114.7516  114.89  3987588  425.90   \n",
       "2021-06-28 00:00:00-04:00  115.04  115.23  115.0400  115.16  5523690  427.17   \n",
       "2021-06-29 00:00:00-04:00  115.06  115.25  115.0450  115.25  3469405  427.89   \n",
       "2021-06-30 00:00:00-04:00  115.36  115.45  115.3000  115.35  5984381  427.20   \n",
       "\n",
       "                                                               \n",
       "                               high     low   close    volume  \n",
       "time                                                           \n",
       "2021-06-24 00:00:00-04:00  425.5500  424.62  425.09  39863529  \n",
       "2021-06-25 00:00:00-04:00  427.0943  425.55  426.57  50460394  \n",
       "2021-06-28 00:00:00-04:00  427.6500  425.89  427.48  43937373  \n",
       "2021-06-29 00:00:00-04:00  428.5600  427.13  427.68  32097572  \n",
       "2021-06-30 00:00:00-04:00  428.7800  427.18  428.08  46776402  "
      ]
     },
     "execution_count": 74,
     "metadata": {},
     "output_type": "execute_result"
    }
   ],
   "source": [
    "# Use the Alpaca get_barset function to make the API call to get the 10 years worth of pricing data\n",
    "# The tickers and timeframe parameters should have been set in Part 1 of this activity \n",
    "# The start and end dates should be updated with the information set above\n",
    "# Remember to add the df property to the end of the call so the response is returned as a DataFrame\n",
    "stocks_bonds_df = alpaca.get_barset(\n",
    "    tickers,\n",
    "    timeframe,\n",
    "    start = start_date,\n",
    "    end = end_date\n",
    ").df\n",
    "\n",
    "\n",
    "# Display both the first and last five rows of the DataFrame\n",
    "stocks_bonds_df.head(5)\n",
    "stocks_bonds_df.tail(5)\n"
   ]
  },
  {
   "cell_type": "markdown",
   "metadata": {},
   "source": [
    "#### Step 2: Run a Monte Carlo simulation of 500 samples and 30 years for the 60/40 portfolio, and then plot the results."
   ]
  },
  {
   "cell_type": "code",
   "execution_count": 77,
   "metadata": {},
   "outputs": [
    {
     "data": {
      "text/html": [
       "<div>\n",
       "<style scoped>\n",
       "    .dataframe tbody tr th:only-of-type {\n",
       "        vertical-align: middle;\n",
       "    }\n",
       "\n",
       "    .dataframe tbody tr th {\n",
       "        vertical-align: top;\n",
       "    }\n",
       "\n",
       "    .dataframe thead tr th {\n",
       "        text-align: left;\n",
       "    }\n",
       "\n",
       "    .dataframe thead tr:last-of-type th {\n",
       "        text-align: right;\n",
       "    }\n",
       "</style>\n",
       "<table border=\"1\" class=\"dataframe\">\n",
       "  <thead>\n",
       "    <tr>\n",
       "      <th></th>\n",
       "      <th colspan=\"6\" halign=\"left\">AGG</th>\n",
       "      <th colspan=\"6\" halign=\"left\">SPY</th>\n",
       "    </tr>\n",
       "    <tr>\n",
       "      <th></th>\n",
       "      <th>open</th>\n",
       "      <th>high</th>\n",
       "      <th>low</th>\n",
       "      <th>close</th>\n",
       "      <th>volume</th>\n",
       "      <th>daily_return</th>\n",
       "      <th>open</th>\n",
       "      <th>high</th>\n",
       "      <th>low</th>\n",
       "      <th>close</th>\n",
       "      <th>volume</th>\n",
       "      <th>daily_return</th>\n",
       "    </tr>\n",
       "    <tr>\n",
       "      <th>time</th>\n",
       "      <th></th>\n",
       "      <th></th>\n",
       "      <th></th>\n",
       "      <th></th>\n",
       "      <th></th>\n",
       "      <th></th>\n",
       "      <th></th>\n",
       "      <th></th>\n",
       "      <th></th>\n",
       "      <th></th>\n",
       "      <th></th>\n",
       "      <th></th>\n",
       "    </tr>\n",
       "  </thead>\n",
       "  <tbody>\n",
       "    <tr>\n",
       "      <th>2021-02-08 00:00:00-05:00</th>\n",
       "      <td>116.75</td>\n",
       "      <td>116.9285</td>\n",
       "      <td>116.7200</td>\n",
       "      <td>116.84</td>\n",
       "      <td>3923885</td>\n",
       "      <td>NaN</td>\n",
       "      <td>389.27</td>\n",
       "      <td>390.54</td>\n",
       "      <td>388.35</td>\n",
       "      <td>390.53</td>\n",
       "      <td>33986650</td>\n",
       "      <td>NaN</td>\n",
       "    </tr>\n",
       "    <tr>\n",
       "      <th>2021-02-09 00:00:00-05:00</th>\n",
       "      <td>116.94</td>\n",
       "      <td>116.9700</td>\n",
       "      <td>116.8215</td>\n",
       "      <td>116.86</td>\n",
       "      <td>4050208</td>\n",
       "      <td>0.000171</td>\n",
       "      <td>389.61</td>\n",
       "      <td>390.89</td>\n",
       "      <td>389.17</td>\n",
       "      <td>390.25</td>\n",
       "      <td>30861522</td>\n",
       "      <td>-0.000717</td>\n",
       "    </tr>\n",
       "    <tr>\n",
       "      <th>2021-02-10 00:00:00-05:00</th>\n",
       "      <td>116.97</td>\n",
       "      <td>117.0100</td>\n",
       "      <td>116.9200</td>\n",
       "      <td>117.00</td>\n",
       "      <td>3448438</td>\n",
       "      <td>0.001198</td>\n",
       "      <td>392.12</td>\n",
       "      <td>392.28</td>\n",
       "      <td>387.50</td>\n",
       "      <td>390.10</td>\n",
       "      <td>53797977</td>\n",
       "      <td>-0.000384</td>\n",
       "    </tr>\n",
       "    <tr>\n",
       "      <th>2021-02-11 00:00:00-05:00</th>\n",
       "      <td>117.03</td>\n",
       "      <td>117.0300</td>\n",
       "      <td>116.8000</td>\n",
       "      <td>116.87</td>\n",
       "      <td>3375374</td>\n",
       "      <td>-0.001111</td>\n",
       "      <td>391.24</td>\n",
       "      <td>391.69</td>\n",
       "      <td>388.10</td>\n",
       "      <td>390.73</td>\n",
       "      <td>38939025</td>\n",
       "      <td>0.001615</td>\n",
       "    </tr>\n",
       "    <tr>\n",
       "      <th>2021-02-12 00:00:00-05:00</th>\n",
       "      <td>116.67</td>\n",
       "      <td>116.7400</td>\n",
       "      <td>116.5418</td>\n",
       "      <td>116.58</td>\n",
       "      <td>3209765</td>\n",
       "      <td>-0.002481</td>\n",
       "      <td>389.85</td>\n",
       "      <td>392.90</td>\n",
       "      <td>389.77</td>\n",
       "      <td>392.69</td>\n",
       "      <td>39697380</td>\n",
       "      <td>0.005016</td>\n",
       "    </tr>\n",
       "  </tbody>\n",
       "</table>\n",
       "</div>"
      ],
      "text/plain": [
       "                              AGG                                       \\\n",
       "                             open      high       low   close   volume   \n",
       "time                                                                     \n",
       "2021-02-08 00:00:00-05:00  116.75  116.9285  116.7200  116.84  3923885   \n",
       "2021-02-09 00:00:00-05:00  116.94  116.9700  116.8215  116.86  4050208   \n",
       "2021-02-10 00:00:00-05:00  116.97  117.0100  116.9200  117.00  3448438   \n",
       "2021-02-11 00:00:00-05:00  117.03  117.0300  116.8000  116.87  3375374   \n",
       "2021-02-12 00:00:00-05:00  116.67  116.7400  116.5418  116.58  3209765   \n",
       "\n",
       "                                           SPY                          \\\n",
       "                          daily_return    open    high     low   close   \n",
       "time                                                                     \n",
       "2021-02-08 00:00:00-05:00          NaN  389.27  390.54  388.35  390.53   \n",
       "2021-02-09 00:00:00-05:00     0.000171  389.61  390.89  389.17  390.25   \n",
       "2021-02-10 00:00:00-05:00     0.001198  392.12  392.28  387.50  390.10   \n",
       "2021-02-11 00:00:00-05:00    -0.001111  391.24  391.69  388.10  390.73   \n",
       "2021-02-12 00:00:00-05:00    -0.002481  389.85  392.90  389.77  392.69   \n",
       "\n",
       "                                                  \n",
       "                             volume daily_return  \n",
       "time                                              \n",
       "2021-02-08 00:00:00-05:00  33986650          NaN  \n",
       "2021-02-09 00:00:00-05:00  30861522    -0.000717  \n",
       "2021-02-10 00:00:00-05:00  53797977    -0.000384  \n",
       "2021-02-11 00:00:00-05:00  38939025     0.001615  \n",
       "2021-02-12 00:00:00-05:00  39697380     0.005016  "
      ]
     },
     "execution_count": 77,
     "metadata": {},
     "output_type": "execute_result"
    }
   ],
   "source": [
    "# Configure the Monte Carlo simulation to forecast 30 years cumulative returns\n",
    "# The weights should be split 40% to AGG and 60% to SPY.\n",
    "# Run 500 samples.\n",
    "MC_thirtyyear_cumulative = MCSimulation(\n",
    "    portfolio_data = stocks_bonds_df,\n",
    "    weights = [.60, .40],\n",
    "    num_simulation = 500,\n",
    "    num_trading_days = 252 * 30\n",
    ")\n",
    "\n",
    "# Review the simulation input data\n",
    "MC_thirtyyear_cumulative.portfolio_data.head()\n"
   ]
  },
  {
   "cell_type": "code",
   "execution_count": 78,
   "metadata": {},
   "outputs": [
    {
     "name": "stdout",
     "output_type": "stream",
     "text": [
      "Running Monte Carlo simulation number 0.\n",
      "Running Monte Carlo simulation number 10.\n",
      "Running Monte Carlo simulation number 20.\n",
      "Running Monte Carlo simulation number 30.\n",
      "Running Monte Carlo simulation number 40.\n",
      "Running Monte Carlo simulation number 50.\n",
      "Running Monte Carlo simulation number 60.\n",
      "Running Monte Carlo simulation number 70.\n",
      "Running Monte Carlo simulation number 80.\n",
      "Running Monte Carlo simulation number 90.\n",
      "Running Monte Carlo simulation number 100.\n",
      "Running Monte Carlo simulation number 110.\n",
      "Running Monte Carlo simulation number 120.\n",
      "Running Monte Carlo simulation number 130.\n",
      "Running Monte Carlo simulation number 140.\n",
      "Running Monte Carlo simulation number 150.\n",
      "Running Monte Carlo simulation number 160.\n",
      "Running Monte Carlo simulation number 170.\n",
      "Running Monte Carlo simulation number 180.\n",
      "Running Monte Carlo simulation number 190.\n",
      "Running Monte Carlo simulation number 200.\n",
      "Running Monte Carlo simulation number 210.\n",
      "Running Monte Carlo simulation number 220.\n",
      "Running Monte Carlo simulation number 230.\n",
      "Running Monte Carlo simulation number 240.\n",
      "Running Monte Carlo simulation number 250.\n",
      "Running Monte Carlo simulation number 260.\n",
      "Running Monte Carlo simulation number 270.\n",
      "Running Monte Carlo simulation number 280.\n",
      "Running Monte Carlo simulation number 290.\n",
      "Running Monte Carlo simulation number 300.\n",
      "Running Monte Carlo simulation number 310.\n",
      "Running Monte Carlo simulation number 320.\n",
      "Running Monte Carlo simulation number 330.\n",
      "Running Monte Carlo simulation number 340.\n",
      "Running Monte Carlo simulation number 350.\n",
      "Running Monte Carlo simulation number 360.\n",
      "Running Monte Carlo simulation number 370.\n",
      "Running Monte Carlo simulation number 380.\n",
      "Running Monte Carlo simulation number 390.\n",
      "Running Monte Carlo simulation number 400.\n",
      "Running Monte Carlo simulation number 410.\n",
      "Running Monte Carlo simulation number 420.\n",
      "Running Monte Carlo simulation number 430.\n",
      "Running Monte Carlo simulation number 440.\n",
      "Running Monte Carlo simulation number 450.\n",
      "Running Monte Carlo simulation number 460.\n",
      "Running Monte Carlo simulation number 470.\n",
      "Running Monte Carlo simulation number 480.\n",
      "Running Monte Carlo simulation number 490.\n"
     ]
    },
    {
     "data": {
      "text/html": [
       "<div>\n",
       "<style scoped>\n",
       "    .dataframe tbody tr th:only-of-type {\n",
       "        vertical-align: middle;\n",
       "    }\n",
       "\n",
       "    .dataframe tbody tr th {\n",
       "        vertical-align: top;\n",
       "    }\n",
       "\n",
       "    .dataframe thead th {\n",
       "        text-align: right;\n",
       "    }\n",
       "</style>\n",
       "<table border=\"1\" class=\"dataframe\">\n",
       "  <thead>\n",
       "    <tr style=\"text-align: right;\">\n",
       "      <th></th>\n",
       "      <th>0</th>\n",
       "      <th>1</th>\n",
       "      <th>2</th>\n",
       "      <th>3</th>\n",
       "      <th>4</th>\n",
       "      <th>5</th>\n",
       "      <th>6</th>\n",
       "      <th>7</th>\n",
       "      <th>8</th>\n",
       "      <th>9</th>\n",
       "      <th>...</th>\n",
       "      <th>490</th>\n",
       "      <th>491</th>\n",
       "      <th>492</th>\n",
       "      <th>493</th>\n",
       "      <th>494</th>\n",
       "      <th>495</th>\n",
       "      <th>496</th>\n",
       "      <th>497</th>\n",
       "      <th>498</th>\n",
       "      <th>499</th>\n",
       "    </tr>\n",
       "  </thead>\n",
       "  <tbody>\n",
       "    <tr>\n",
       "      <th>0</th>\n",
       "      <td>1.000000</td>\n",
       "      <td>1.000000</td>\n",
       "      <td>1.000000</td>\n",
       "      <td>1.000000</td>\n",
       "      <td>1.000000</td>\n",
       "      <td>1.000000</td>\n",
       "      <td>1.000000</td>\n",
       "      <td>1.000000</td>\n",
       "      <td>1.000000</td>\n",
       "      <td>1.000000</td>\n",
       "      <td>...</td>\n",
       "      <td>1.000000</td>\n",
       "      <td>1.000000</td>\n",
       "      <td>1.000000</td>\n",
       "      <td>1.000000</td>\n",
       "      <td>1.000000</td>\n",
       "      <td>1.000000</td>\n",
       "      <td>1.000000</td>\n",
       "      <td>1.000000</td>\n",
       "      <td>1.000000</td>\n",
       "      <td>1.000000</td>\n",
       "    </tr>\n",
       "    <tr>\n",
       "      <th>1</th>\n",
       "      <td>0.993338</td>\n",
       "      <td>0.995301</td>\n",
       "      <td>1.004482</td>\n",
       "      <td>0.998676</td>\n",
       "      <td>0.995079</td>\n",
       "      <td>0.996310</td>\n",
       "      <td>1.001512</td>\n",
       "      <td>1.001356</td>\n",
       "      <td>1.002406</td>\n",
       "      <td>0.995615</td>\n",
       "      <td>...</td>\n",
       "      <td>1.001094</td>\n",
       "      <td>1.000803</td>\n",
       "      <td>0.998444</td>\n",
       "      <td>0.994620</td>\n",
       "      <td>1.003214</td>\n",
       "      <td>0.999677</td>\n",
       "      <td>0.996462</td>\n",
       "      <td>1.004827</td>\n",
       "      <td>1.004451</td>\n",
       "      <td>1.004642</td>\n",
       "    </tr>\n",
       "    <tr>\n",
       "      <th>2</th>\n",
       "      <td>0.996594</td>\n",
       "      <td>0.994118</td>\n",
       "      <td>1.000319</td>\n",
       "      <td>1.001366</td>\n",
       "      <td>0.993993</td>\n",
       "      <td>0.995845</td>\n",
       "      <td>1.004894</td>\n",
       "      <td>0.999882</td>\n",
       "      <td>1.004626</td>\n",
       "      <td>0.995557</td>\n",
       "      <td>...</td>\n",
       "      <td>1.008842</td>\n",
       "      <td>1.000709</td>\n",
       "      <td>1.003044</td>\n",
       "      <td>0.997922</td>\n",
       "      <td>1.001546</td>\n",
       "      <td>1.004948</td>\n",
       "      <td>0.994449</td>\n",
       "      <td>1.002364</td>\n",
       "      <td>1.007886</td>\n",
       "      <td>1.010352</td>\n",
       "    </tr>\n",
       "    <tr>\n",
       "      <th>3</th>\n",
       "      <td>0.992246</td>\n",
       "      <td>0.991565</td>\n",
       "      <td>0.996985</td>\n",
       "      <td>1.001163</td>\n",
       "      <td>0.992353</td>\n",
       "      <td>0.991584</td>\n",
       "      <td>1.001549</td>\n",
       "      <td>0.999086</td>\n",
       "      <td>1.004244</td>\n",
       "      <td>0.999057</td>\n",
       "      <td>...</td>\n",
       "      <td>1.002951</td>\n",
       "      <td>0.997935</td>\n",
       "      <td>1.002877</td>\n",
       "      <td>0.998032</td>\n",
       "      <td>1.003601</td>\n",
       "      <td>1.006715</td>\n",
       "      <td>0.987063</td>\n",
       "      <td>1.006493</td>\n",
       "      <td>1.003570</td>\n",
       "      <td>1.015349</td>\n",
       "    </tr>\n",
       "    <tr>\n",
       "      <th>4</th>\n",
       "      <td>0.995429</td>\n",
       "      <td>0.994762</td>\n",
       "      <td>1.000168</td>\n",
       "      <td>0.997852</td>\n",
       "      <td>0.989264</td>\n",
       "      <td>0.997149</td>\n",
       "      <td>0.996662</td>\n",
       "      <td>0.996858</td>\n",
       "      <td>1.005892</td>\n",
       "      <td>1.001397</td>\n",
       "      <td>...</td>\n",
       "      <td>0.998236</td>\n",
       "      <td>1.003077</td>\n",
       "      <td>1.003181</td>\n",
       "      <td>0.999860</td>\n",
       "      <td>0.999539</td>\n",
       "      <td>1.004032</td>\n",
       "      <td>0.981094</td>\n",
       "      <td>1.010744</td>\n",
       "      <td>1.000623</td>\n",
       "      <td>1.014119</td>\n",
       "    </tr>\n",
       "    <tr>\n",
       "      <th>...</th>\n",
       "      <td>...</td>\n",
       "      <td>...</td>\n",
       "      <td>...</td>\n",
       "      <td>...</td>\n",
       "      <td>...</td>\n",
       "      <td>...</td>\n",
       "      <td>...</td>\n",
       "      <td>...</td>\n",
       "      <td>...</td>\n",
       "      <td>...</td>\n",
       "      <td>...</td>\n",
       "      <td>...</td>\n",
       "      <td>...</td>\n",
       "      <td>...</td>\n",
       "      <td>...</td>\n",
       "      <td>...</td>\n",
       "      <td>...</td>\n",
       "      <td>...</td>\n",
       "      <td>...</td>\n",
       "      <td>...</td>\n",
       "      <td>...</td>\n",
       "    </tr>\n",
       "    <tr>\n",
       "      <th>7556</th>\n",
       "      <td>4.378813</td>\n",
       "      <td>7.860112</td>\n",
       "      <td>16.499052</td>\n",
       "      <td>5.981650</td>\n",
       "      <td>11.683602</td>\n",
       "      <td>9.441165</td>\n",
       "      <td>12.845285</td>\n",
       "      <td>11.504308</td>\n",
       "      <td>9.680834</td>\n",
       "      <td>4.910405</td>\n",
       "      <td>...</td>\n",
       "      <td>10.424746</td>\n",
       "      <td>15.683503</td>\n",
       "      <td>10.197896</td>\n",
       "      <td>9.495805</td>\n",
       "      <td>16.341111</td>\n",
       "      <td>10.957505</td>\n",
       "      <td>9.883762</td>\n",
       "      <td>10.671960</td>\n",
       "      <td>8.251169</td>\n",
       "      <td>12.667564</td>\n",
       "    </tr>\n",
       "    <tr>\n",
       "      <th>7557</th>\n",
       "      <td>4.383774</td>\n",
       "      <td>7.833851</td>\n",
       "      <td>16.510764</td>\n",
       "      <td>5.952713</td>\n",
       "      <td>11.647320</td>\n",
       "      <td>9.471056</td>\n",
       "      <td>12.789315</td>\n",
       "      <td>11.506174</td>\n",
       "      <td>9.694135</td>\n",
       "      <td>4.895379</td>\n",
       "      <td>...</td>\n",
       "      <td>10.427684</td>\n",
       "      <td>15.721748</td>\n",
       "      <td>10.179413</td>\n",
       "      <td>9.495623</td>\n",
       "      <td>16.292960</td>\n",
       "      <td>10.921240</td>\n",
       "      <td>9.908907</td>\n",
       "      <td>10.696033</td>\n",
       "      <td>8.223193</td>\n",
       "      <td>12.702227</td>\n",
       "    </tr>\n",
       "    <tr>\n",
       "      <th>7558</th>\n",
       "      <td>4.382296</td>\n",
       "      <td>7.797540</td>\n",
       "      <td>16.516783</td>\n",
       "      <td>5.974776</td>\n",
       "      <td>11.658474</td>\n",
       "      <td>9.467852</td>\n",
       "      <td>12.881799</td>\n",
       "      <td>11.532903</td>\n",
       "      <td>9.714217</td>\n",
       "      <td>4.895949</td>\n",
       "      <td>...</td>\n",
       "      <td>10.439752</td>\n",
       "      <td>15.662675</td>\n",
       "      <td>10.217783</td>\n",
       "      <td>9.420768</td>\n",
       "      <td>16.327766</td>\n",
       "      <td>10.902041</td>\n",
       "      <td>9.909617</td>\n",
       "      <td>10.665814</td>\n",
       "      <td>8.240732</td>\n",
       "      <td>12.668660</td>\n",
       "    </tr>\n",
       "    <tr>\n",
       "      <th>7559</th>\n",
       "      <td>4.394063</td>\n",
       "      <td>7.742328</td>\n",
       "      <td>16.497066</td>\n",
       "      <td>5.985351</td>\n",
       "      <td>11.654926</td>\n",
       "      <td>9.417289</td>\n",
       "      <td>12.860940</td>\n",
       "      <td>11.554007</td>\n",
       "      <td>9.713342</td>\n",
       "      <td>4.911928</td>\n",
       "      <td>...</td>\n",
       "      <td>10.529100</td>\n",
       "      <td>15.650476</td>\n",
       "      <td>10.208280</td>\n",
       "      <td>9.381874</td>\n",
       "      <td>16.241319</td>\n",
       "      <td>10.957114</td>\n",
       "      <td>9.899509</td>\n",
       "      <td>10.594695</td>\n",
       "      <td>8.253900</td>\n",
       "      <td>12.684889</td>\n",
       "    </tr>\n",
       "    <tr>\n",
       "      <th>7560</th>\n",
       "      <td>4.400410</td>\n",
       "      <td>7.781620</td>\n",
       "      <td>16.517318</td>\n",
       "      <td>6.006252</td>\n",
       "      <td>11.768502</td>\n",
       "      <td>9.410321</td>\n",
       "      <td>12.804239</td>\n",
       "      <td>11.537017</td>\n",
       "      <td>9.729920</td>\n",
       "      <td>4.900029</td>\n",
       "      <td>...</td>\n",
       "      <td>10.567600</td>\n",
       "      <td>15.564724</td>\n",
       "      <td>10.232006</td>\n",
       "      <td>9.441418</td>\n",
       "      <td>16.181976</td>\n",
       "      <td>10.982510</td>\n",
       "      <td>9.879489</td>\n",
       "      <td>10.606945</td>\n",
       "      <td>8.251055</td>\n",
       "      <td>12.689413</td>\n",
       "    </tr>\n",
       "  </tbody>\n",
       "</table>\n",
       "<p>7561 rows × 500 columns</p>\n",
       "</div>"
      ],
      "text/plain": [
       "           0         1          2         3          4         5          6    \\\n",
       "0     1.000000  1.000000   1.000000  1.000000   1.000000  1.000000   1.000000   \n",
       "1     0.993338  0.995301   1.004482  0.998676   0.995079  0.996310   1.001512   \n",
       "2     0.996594  0.994118   1.000319  1.001366   0.993993  0.995845   1.004894   \n",
       "3     0.992246  0.991565   0.996985  1.001163   0.992353  0.991584   1.001549   \n",
       "4     0.995429  0.994762   1.000168  0.997852   0.989264  0.997149   0.996662   \n",
       "...        ...       ...        ...       ...        ...       ...        ...   \n",
       "7556  4.378813  7.860112  16.499052  5.981650  11.683602  9.441165  12.845285   \n",
       "7557  4.383774  7.833851  16.510764  5.952713  11.647320  9.471056  12.789315   \n",
       "7558  4.382296  7.797540  16.516783  5.974776  11.658474  9.467852  12.881799   \n",
       "7559  4.394063  7.742328  16.497066  5.985351  11.654926  9.417289  12.860940   \n",
       "7560  4.400410  7.781620  16.517318  6.006252  11.768502  9.410321  12.804239   \n",
       "\n",
       "            7         8         9    ...        490        491        492  \\\n",
       "0      1.000000  1.000000  1.000000  ...   1.000000   1.000000   1.000000   \n",
       "1      1.001356  1.002406  0.995615  ...   1.001094   1.000803   0.998444   \n",
       "2      0.999882  1.004626  0.995557  ...   1.008842   1.000709   1.003044   \n",
       "3      0.999086  1.004244  0.999057  ...   1.002951   0.997935   1.002877   \n",
       "4      0.996858  1.005892  1.001397  ...   0.998236   1.003077   1.003181   \n",
       "...         ...       ...       ...  ...        ...        ...        ...   \n",
       "7556  11.504308  9.680834  4.910405  ...  10.424746  15.683503  10.197896   \n",
       "7557  11.506174  9.694135  4.895379  ...  10.427684  15.721748  10.179413   \n",
       "7558  11.532903  9.714217  4.895949  ...  10.439752  15.662675  10.217783   \n",
       "7559  11.554007  9.713342  4.911928  ...  10.529100  15.650476  10.208280   \n",
       "7560  11.537017  9.729920  4.900029  ...  10.567600  15.564724  10.232006   \n",
       "\n",
       "           493        494        495       496        497       498        499  \n",
       "0     1.000000   1.000000   1.000000  1.000000   1.000000  1.000000   1.000000  \n",
       "1     0.994620   1.003214   0.999677  0.996462   1.004827  1.004451   1.004642  \n",
       "2     0.997922   1.001546   1.004948  0.994449   1.002364  1.007886   1.010352  \n",
       "3     0.998032   1.003601   1.006715  0.987063   1.006493  1.003570   1.015349  \n",
       "4     0.999860   0.999539   1.004032  0.981094   1.010744  1.000623   1.014119  \n",
       "...        ...        ...        ...       ...        ...       ...        ...  \n",
       "7556  9.495805  16.341111  10.957505  9.883762  10.671960  8.251169  12.667564  \n",
       "7557  9.495623  16.292960  10.921240  9.908907  10.696033  8.223193  12.702227  \n",
       "7558  9.420768  16.327766  10.902041  9.909617  10.665814  8.240732  12.668660  \n",
       "7559  9.381874  16.241319  10.957114  9.899509  10.594695  8.253900  12.684889  \n",
       "7560  9.441418  16.181976  10.982510  9.879489  10.606945  8.251055  12.689413  \n",
       "\n",
       "[7561 rows x 500 columns]"
      ]
     },
     "execution_count": 78,
     "metadata": {},
     "output_type": "execute_result"
    }
   ],
   "source": [
    "# Run the Monte Carlo simulation to forecast 30 years cumulative returns\n",
    "MC_thirtyyear_cumulative.calc_cumulative_return()\n"
   ]
  },
  {
   "cell_type": "code",
   "execution_count": 79,
   "metadata": {},
   "outputs": [
    {
     "data": {
      "image/png": "[encoded data removed]",
      "text/plain": [
       "<Figure size 432x288 with 1 Axes>"
      ]
     },
     "metadata": {
      "needs_background": "light"
     },
     "output_type": "display_data"
    }
   ],
   "source": [
    "# Visualize the 30-year Monte Carlo simulation by creating an\n",
    "# overlay line plot\n",
    "MC_thirty_line_plot = MC_thirtyyear_cumulative.plot_simulation()\n"
   ]
  },
  {
   "cell_type": "markdown",
   "metadata": {},
   "source": [
    "#### Step 3: Plot the probability distribution of the Monte Carlo simulation."
   ]
  },
  {
   "cell_type": "code",
   "execution_count": 80,
   "metadata": {},
   "outputs": [
    {
     "data": {
      "image/png": "[encoded data removed]",
      "text/plain": [
       "<Figure size 432x288 with 1 Axes>"
      ]
     },
     "metadata": {
      "needs_background": "light"
     },
     "output_type": "display_data"
    }
   ],
   "source": [
    "# Visualize the probability distribution of the 30-year Monte Carlo simulation \n",
    "# by plotting a histogram\n",
    "MC_sim_distribution_plot = MC_thirtyyear_cumulative.plot_distribution()\n"
   ]
  },
  {
   "cell_type": "markdown",
   "metadata": {},
   "source": [
    "#### Step 4: Generate the summary statistics for the Monte Carlo simulation."
   ]
  },
  {
   "cell_type": "code",
   "execution_count": 81,
   "metadata": {},
   "outputs": [
    {
     "name": "stdout",
     "output_type": "stream",
     "text": [
      "count           500.000000\n",
      "mean             10.330673\n",
      "std               3.333905\n",
      "min               3.664894\n",
      "25%               8.031124\n",
      "50%               9.836765\n",
      "75%              11.956883\n",
      "max              28.248669\n",
      "95% CI Lower      5.468270\n",
      "95% CI Upper     18.142471\n",
      "Name: 7560, dtype: float64\n"
     ]
    }
   ],
   "source": [
    "# Generate summary statistics from the 30-year Monte Carlo simulation results\n",
    "# Save the results as a variable\n",
    "MC_summary_statistics = MC_thirtyyear_cumulative.summarize_cumulative_return()\n",
    "\n",
    "\n",
    "# Review the 30-year Monte Carlo summary statistics\n",
    "print(MC_summary_statistics)"
   ]
  },
  {
   "cell_type": "markdown",
   "metadata": {},
   "source": [
    "### Analyze the Retirement Portfolio Forecasts\n",
    "\n",
    "Using the current value of only the stock and bond portion of the member's portfolio and the summary statistics that you generated from the Monte Carlo simulation, answer the following question in your Jupyter notebook:\n",
    "\n",
    "-  What are the lower and upper bounds for the expected value of the portfolio with a 95% confidence interval?\n"
   ]
  },
  {
   "cell_type": "code",
   "execution_count": 82,
   "metadata": {},
   "outputs": [
    {
     "name": "stdout",
     "output_type": "stream",
     "text": [
      "70158.79999999999\n"
     ]
    }
   ],
   "source": [
    "# Print the current balance of the stock and bond portion of the members portfolio\n",
    "print(total_stocks_bonds)\n"
   ]
  },
  {
   "cell_type": "code",
   "execution_count": 84,
   "metadata": {},
   "outputs": [
    {
     "name": "stdout",
     "output_type": "stream",
     "text": [
      "There is a 95% chance that if you invest your total stock and bonds portfolio in the next thirty years your investment will fall between $ 383647.27 and $ 1272854.02\n"
     ]
    }
   ],
   "source": [
    "# Use the lower and upper `95%` confidence intervals to calculate the range of the possible outcomes for the current stock/bond portfolio\n",
    "ci_lower_thirty_cumulative_return = MC_summary_statistics[8] * total_stocks_bonds\n",
    "ci_upper_thirty_cumulative_return = MC_summary_statistics[9] * total_stocks_bonds\n",
    "\n",
    "# Print the result of your calculations\n",
    "print(f'There is a 95% chance that if you invest your total stock and bonds portfolio in the next thirty years your investment will fall between ${ci_lower_thirty_cumulative_return: .2f} and ${ci_upper_thirty_cumulative_return: .2f}')\n"
   ]
  },
  {
   "cell_type": "markdown",
   "metadata": {},
   "source": [
    "### Forecast Cumulative Returns in 10 Years\n",
    "\n",
    "The CTO of the credit union is impressed with your work on these planning tools but wonders if 30 years is a long time to wait until retirement. So, your next task is to adjust the retirement portfolio and run a new Monte Carlo simulation to find out if the changes will allow members to retire earlier.\n",
    "\n",
    "For this new Monte Carlo simulation, do the following: \n",
    "\n",
    "- Forecast the cumulative returns for 10 years from now. Because of the shortened investment horizon (30 years to 10 years), the portfolio needs to invest more heavily in the riskier asset&mdash;that is, stock&mdash;to help accumulate wealth for retirement. \n",
    "\n",
    "- Adjust the weights of the retirement portfolio so that the composition for the Monte Carlo simulation consists of 20% bonds and 80% stocks. \n",
    "\n",
    "- Run the simulation over 500 samples, and use the same data that the API call to Alpaca generated.\n",
    "\n",
    "- Based on the new Monte Carlo simulation, answer the following questions in your Jupyter notebook:\n",
    "\n",
    "    - Using the current value of only the stock and bond portion of the member's portfolio and the summary statistics that you generated from the new Monte Carlo simulation, what are the lower and upper bounds for the expected value of the portfolio (with the new weights) with a 95% confidence interval?\n",
    "\n",
    "    - Will weighting the portfolio more heavily toward stocks allow the credit union members to retire after only 10 years?\n"
   ]
  },
  {
   "cell_type": "code",
   "execution_count": 85,
   "metadata": {},
   "outputs": [
    {
     "data": {
      "text/html": [
       "<div>\n",
       "<style scoped>\n",
       "    .dataframe tbody tr th:only-of-type {\n",
       "        vertical-align: middle;\n",
       "    }\n",
       "\n",
       "    .dataframe tbody tr th {\n",
       "        vertical-align: top;\n",
       "    }\n",
       "\n",
       "    .dataframe thead tr th {\n",
       "        text-align: left;\n",
       "    }\n",
       "\n",
       "    .dataframe thead tr:last-of-type th {\n",
       "        text-align: right;\n",
       "    }\n",
       "</style>\n",
       "<table border=\"1\" class=\"dataframe\">\n",
       "  <thead>\n",
       "    <tr>\n",
       "      <th></th>\n",
       "      <th colspan=\"6\" halign=\"left\">AGG</th>\n",
       "      <th colspan=\"6\" halign=\"left\">SPY</th>\n",
       "    </tr>\n",
       "    <tr>\n",
       "      <th></th>\n",
       "      <th>open</th>\n",
       "      <th>high</th>\n",
       "      <th>low</th>\n",
       "      <th>close</th>\n",
       "      <th>volume</th>\n",
       "      <th>daily_return</th>\n",
       "      <th>open</th>\n",
       "      <th>high</th>\n",
       "      <th>low</th>\n",
       "      <th>close</th>\n",
       "      <th>volume</th>\n",
       "      <th>daily_return</th>\n",
       "    </tr>\n",
       "    <tr>\n",
       "      <th>time</th>\n",
       "      <th></th>\n",
       "      <th></th>\n",
       "      <th></th>\n",
       "      <th></th>\n",
       "      <th></th>\n",
       "      <th></th>\n",
       "      <th></th>\n",
       "      <th></th>\n",
       "      <th></th>\n",
       "      <th></th>\n",
       "      <th></th>\n",
       "      <th></th>\n",
       "    </tr>\n",
       "  </thead>\n",
       "  <tbody>\n",
       "    <tr>\n",
       "      <th>2021-02-08 00:00:00-05:00</th>\n",
       "      <td>116.75</td>\n",
       "      <td>116.9285</td>\n",
       "      <td>116.7200</td>\n",
       "      <td>116.84</td>\n",
       "      <td>3923885</td>\n",
       "      <td>NaN</td>\n",
       "      <td>389.27</td>\n",
       "      <td>390.54</td>\n",
       "      <td>388.35</td>\n",
       "      <td>390.53</td>\n",
       "      <td>33986650</td>\n",
       "      <td>NaN</td>\n",
       "    </tr>\n",
       "    <tr>\n",
       "      <th>2021-02-09 00:00:00-05:00</th>\n",
       "      <td>116.94</td>\n",
       "      <td>116.9700</td>\n",
       "      <td>116.8215</td>\n",
       "      <td>116.86</td>\n",
       "      <td>4050208</td>\n",
       "      <td>0.000171</td>\n",
       "      <td>389.61</td>\n",
       "      <td>390.89</td>\n",
       "      <td>389.17</td>\n",
       "      <td>390.25</td>\n",
       "      <td>30861522</td>\n",
       "      <td>-0.000717</td>\n",
       "    </tr>\n",
       "    <tr>\n",
       "      <th>2021-02-10 00:00:00-05:00</th>\n",
       "      <td>116.97</td>\n",
       "      <td>117.0100</td>\n",
       "      <td>116.9200</td>\n",
       "      <td>117.00</td>\n",
       "      <td>3448438</td>\n",
       "      <td>0.001198</td>\n",
       "      <td>392.12</td>\n",
       "      <td>392.28</td>\n",
       "      <td>387.50</td>\n",
       "      <td>390.10</td>\n",
       "      <td>53797977</td>\n",
       "      <td>-0.000384</td>\n",
       "    </tr>\n",
       "    <tr>\n",
       "      <th>2021-02-11 00:00:00-05:00</th>\n",
       "      <td>117.03</td>\n",
       "      <td>117.0300</td>\n",
       "      <td>116.8000</td>\n",
       "      <td>116.87</td>\n",
       "      <td>3375374</td>\n",
       "      <td>-0.001111</td>\n",
       "      <td>391.24</td>\n",
       "      <td>391.69</td>\n",
       "      <td>388.10</td>\n",
       "      <td>390.73</td>\n",
       "      <td>38939025</td>\n",
       "      <td>0.001615</td>\n",
       "    </tr>\n",
       "    <tr>\n",
       "      <th>2021-02-12 00:00:00-05:00</th>\n",
       "      <td>116.67</td>\n",
       "      <td>116.7400</td>\n",
       "      <td>116.5418</td>\n",
       "      <td>116.58</td>\n",
       "      <td>3209765</td>\n",
       "      <td>-0.002481</td>\n",
       "      <td>389.85</td>\n",
       "      <td>392.90</td>\n",
       "      <td>389.77</td>\n",
       "      <td>392.69</td>\n",
       "      <td>39697380</td>\n",
       "      <td>0.005016</td>\n",
       "    </tr>\n",
       "  </tbody>\n",
       "</table>\n",
       "</div>"
      ],
      "text/plain": [
       "                              AGG                                       \\\n",
       "                             open      high       low   close   volume   \n",
       "time                                                                     \n",
       "2021-02-08 00:00:00-05:00  116.75  116.9285  116.7200  116.84  3923885   \n",
       "2021-02-09 00:00:00-05:00  116.94  116.9700  116.8215  116.86  4050208   \n",
       "2021-02-10 00:00:00-05:00  116.97  117.0100  116.9200  117.00  3448438   \n",
       "2021-02-11 00:00:00-05:00  117.03  117.0300  116.8000  116.87  3375374   \n",
       "2021-02-12 00:00:00-05:00  116.67  116.7400  116.5418  116.58  3209765   \n",
       "\n",
       "                                           SPY                          \\\n",
       "                          daily_return    open    high     low   close   \n",
       "time                                                                     \n",
       "2021-02-08 00:00:00-05:00          NaN  389.27  390.54  388.35  390.53   \n",
       "2021-02-09 00:00:00-05:00     0.000171  389.61  390.89  389.17  390.25   \n",
       "2021-02-10 00:00:00-05:00     0.001198  392.12  392.28  387.50  390.10   \n",
       "2021-02-11 00:00:00-05:00    -0.001111  391.24  391.69  388.10  390.73   \n",
       "2021-02-12 00:00:00-05:00    -0.002481  389.85  392.90  389.77  392.69   \n",
       "\n",
       "                                                  \n",
       "                             volume daily_return  \n",
       "time                                              \n",
       "2021-02-08 00:00:00-05:00  33986650          NaN  \n",
       "2021-02-09 00:00:00-05:00  30861522    -0.000717  \n",
       "2021-02-10 00:00:00-05:00  53797977    -0.000384  \n",
       "2021-02-11 00:00:00-05:00  38939025     0.001615  \n",
       "2021-02-12 00:00:00-05:00  39697380     0.005016  "
      ]
     },
     "execution_count": 85,
     "metadata": {},
     "output_type": "execute_result"
    }
   ],
   "source": [
    "# Configure a Monte Carlo simulation to forecast 10 years cumulative returns\n",
    "# The weights should be split 20% to AGG and 80% to SPY.\n",
    "# Run 500 samples.\n",
    "MC_tenyear = MCSimulation(\n",
    "    portfolio_data = stocks_bonds_df,\n",
    "    weights = [.20, .80],\n",
    "    num_simulation = 500,\n",
    "    num_trading_days = 252 * 10)\n",
    "\n",
    "# Review the simulation input data\n",
    "MC_tenyear.portfolio_data.head()\n"
   ]
  },
  {
   "cell_type": "code",
   "execution_count": 86,
   "metadata": {},
   "outputs": [
    {
     "name": "stdout",
     "output_type": "stream",
     "text": [
      "Running Monte Carlo simulation number 0.\n",
      "Running Monte Carlo simulation number 10.\n",
      "Running Monte Carlo simulation number 20.\n",
      "Running Monte Carlo simulation number 30.\n",
      "Running Monte Carlo simulation number 40.\n",
      "Running Monte Carlo simulation number 50.\n",
      "Running Monte Carlo simulation number 60.\n",
      "Running Monte Carlo simulation number 70.\n",
      "Running Monte Carlo simulation number 80.\n",
      "Running Monte Carlo simulation number 90.\n",
      "Running Monte Carlo simulation number 100.\n",
      "Running Monte Carlo simulation number 110.\n",
      "Running Monte Carlo simulation number 120.\n",
      "Running Monte Carlo simulation number 130.\n",
      "Running Monte Carlo simulation number 140.\n",
      "Running Monte Carlo simulation number 150.\n",
      "Running Monte Carlo simulation number 160.\n",
      "Running Monte Carlo simulation number 170.\n",
      "Running Monte Carlo simulation number 180.\n",
      "Running Monte Carlo simulation number 190.\n",
      "Running Monte Carlo simulation number 200.\n",
      "Running Monte Carlo simulation number 210.\n",
      "Running Monte Carlo simulation number 220.\n",
      "Running Monte Carlo simulation number 230.\n",
      "Running Monte Carlo simulation number 240.\n",
      "Running Monte Carlo simulation number 250.\n",
      "Running Monte Carlo simulation number 260.\n",
      "Running Monte Carlo simulation number 270.\n",
      "Running Monte Carlo simulation number 280.\n",
      "Running Monte Carlo simulation number 290.\n",
      "Running Monte Carlo simulation number 300.\n",
      "Running Monte Carlo simulation number 310.\n",
      "Running Monte Carlo simulation number 320.\n",
      "Running Monte Carlo simulation number 330.\n",
      "Running Monte Carlo simulation number 340.\n",
      "Running Monte Carlo simulation number 350.\n",
      "Running Monte Carlo simulation number 360.\n",
      "Running Monte Carlo simulation number 370.\n",
      "Running Monte Carlo simulation number 380.\n",
      "Running Monte Carlo simulation number 390.\n",
      "Running Monte Carlo simulation number 400.\n",
      "Running Monte Carlo simulation number 410.\n",
      "Running Monte Carlo simulation number 420.\n",
      "Running Monte Carlo simulation number 430.\n",
      "Running Monte Carlo simulation number 440.\n",
      "Running Monte Carlo simulation number 450.\n",
      "Running Monte Carlo simulation number 460.\n",
      "Running Monte Carlo simulation number 470.\n",
      "Running Monte Carlo simulation number 480.\n",
      "Running Monte Carlo simulation number 490.\n"
     ]
    },
    {
     "data": {
      "text/html": [
       "<div>\n",
       "<style scoped>\n",
       "    .dataframe tbody tr th:only-of-type {\n",
       "        vertical-align: middle;\n",
       "    }\n",
       "\n",
       "    .dataframe tbody tr th {\n",
       "        vertical-align: top;\n",
       "    }\n",
       "\n",
       "    .dataframe thead th {\n",
       "        text-align: right;\n",
       "    }\n",
       "</style>\n",
       "<table border=\"1\" class=\"dataframe\">\n",
       "  <thead>\n",
       "    <tr style=\"text-align: right;\">\n",
       "      <th></th>\n",
       "      <th>0</th>\n",
       "      <th>1</th>\n",
       "      <th>2</th>\n",
       "      <th>3</th>\n",
       "      <th>4</th>\n",
       "      <th>5</th>\n",
       "      <th>6</th>\n",
       "      <th>7</th>\n",
       "      <th>8</th>\n",
       "      <th>9</th>\n",
       "      <th>...</th>\n",
       "      <th>490</th>\n",
       "      <th>491</th>\n",
       "      <th>492</th>\n",
       "      <th>493</th>\n",
       "      <th>494</th>\n",
       "      <th>495</th>\n",
       "      <th>496</th>\n",
       "      <th>497</th>\n",
       "      <th>498</th>\n",
       "      <th>499</th>\n",
       "    </tr>\n",
       "  </thead>\n",
       "  <tbody>\n",
       "    <tr>\n",
       "      <th>0</th>\n",
       "      <td>1.000000</td>\n",
       "      <td>1.000000</td>\n",
       "      <td>1.000000</td>\n",
       "      <td>1.000000</td>\n",
       "      <td>1.000000</td>\n",
       "      <td>1.000000</td>\n",
       "      <td>1.000000</td>\n",
       "      <td>1.000000</td>\n",
       "      <td>1.000000</td>\n",
       "      <td>1.000000</td>\n",
       "      <td>...</td>\n",
       "      <td>1.000000</td>\n",
       "      <td>1.000000</td>\n",
       "      <td>1.000000</td>\n",
       "      <td>1.000000</td>\n",
       "      <td>1.000000</td>\n",
       "      <td>1.000000</td>\n",
       "      <td>1.000000</td>\n",
       "      <td>1.000000</td>\n",
       "      <td>1.000000</td>\n",
       "      <td>1.000000</td>\n",
       "    </tr>\n",
       "    <tr>\n",
       "      <th>1</th>\n",
       "      <td>0.991908</td>\n",
       "      <td>1.014580</td>\n",
       "      <td>0.995637</td>\n",
       "      <td>0.993925</td>\n",
       "      <td>1.005070</td>\n",
       "      <td>1.001798</td>\n",
       "      <td>1.012308</td>\n",
       "      <td>1.004155</td>\n",
       "      <td>1.006987</td>\n",
       "      <td>0.989928</td>\n",
       "      <td>...</td>\n",
       "      <td>0.990440</td>\n",
       "      <td>0.999368</td>\n",
       "      <td>1.003677</td>\n",
       "      <td>0.989554</td>\n",
       "      <td>1.005413</td>\n",
       "      <td>0.999113</td>\n",
       "      <td>1.000448</td>\n",
       "      <td>0.997570</td>\n",
       "      <td>0.988996</td>\n",
       "      <td>1.003951</td>\n",
       "    </tr>\n",
       "    <tr>\n",
       "      <th>2</th>\n",
       "      <td>0.993293</td>\n",
       "      <td>1.019369</td>\n",
       "      <td>0.994215</td>\n",
       "      <td>1.000654</td>\n",
       "      <td>0.998711</td>\n",
       "      <td>0.996889</td>\n",
       "      <td>0.997447</td>\n",
       "      <td>0.994361</td>\n",
       "      <td>1.013630</td>\n",
       "      <td>0.982234</td>\n",
       "      <td>...</td>\n",
       "      <td>0.984553</td>\n",
       "      <td>0.996196</td>\n",
       "      <td>1.017170</td>\n",
       "      <td>0.992226</td>\n",
       "      <td>1.004665</td>\n",
       "      <td>0.996313</td>\n",
       "      <td>0.995688</td>\n",
       "      <td>0.996226</td>\n",
       "      <td>0.983785</td>\n",
       "      <td>1.005083</td>\n",
       "    </tr>\n",
       "    <tr>\n",
       "      <th>3</th>\n",
       "      <td>0.989501</td>\n",
       "      <td>1.016527</td>\n",
       "      <td>0.982498</td>\n",
       "      <td>1.006492</td>\n",
       "      <td>1.001951</td>\n",
       "      <td>1.005960</td>\n",
       "      <td>1.000979</td>\n",
       "      <td>0.995244</td>\n",
       "      <td>1.007299</td>\n",
       "      <td>0.984167</td>\n",
       "      <td>...</td>\n",
       "      <td>0.989364</td>\n",
       "      <td>0.999745</td>\n",
       "      <td>1.013444</td>\n",
       "      <td>0.985771</td>\n",
       "      <td>1.006019</td>\n",
       "      <td>0.994278</td>\n",
       "      <td>1.001776</td>\n",
       "      <td>1.009579</td>\n",
       "      <td>0.982875</td>\n",
       "      <td>1.006603</td>\n",
       "    </tr>\n",
       "    <tr>\n",
       "      <th>4</th>\n",
       "      <td>0.989772</td>\n",
       "      <td>1.024061</td>\n",
       "      <td>0.974756</td>\n",
       "      <td>1.008997</td>\n",
       "      <td>0.996309</td>\n",
       "      <td>1.010968</td>\n",
       "      <td>1.005585</td>\n",
       "      <td>0.997830</td>\n",
       "      <td>1.010179</td>\n",
       "      <td>0.980061</td>\n",
       "      <td>...</td>\n",
       "      <td>0.982020</td>\n",
       "      <td>0.996285</td>\n",
       "      <td>1.009310</td>\n",
       "      <td>0.993066</td>\n",
       "      <td>1.001469</td>\n",
       "      <td>1.002261</td>\n",
       "      <td>1.002095</td>\n",
       "      <td>1.007812</td>\n",
       "      <td>0.986298</td>\n",
       "      <td>1.002991</td>\n",
       "    </tr>\n",
       "    <tr>\n",
       "      <th>...</th>\n",
       "      <td>...</td>\n",
       "      <td>...</td>\n",
       "      <td>...</td>\n",
       "      <td>...</td>\n",
       "      <td>...</td>\n",
       "      <td>...</td>\n",
       "      <td>...</td>\n",
       "      <td>...</td>\n",
       "      <td>...</td>\n",
       "      <td>...</td>\n",
       "      <td>...</td>\n",
       "      <td>...</td>\n",
       "      <td>...</td>\n",
       "      <td>...</td>\n",
       "      <td>...</td>\n",
       "      <td>...</td>\n",
       "      <td>...</td>\n",
       "      <td>...</td>\n",
       "      <td>...</td>\n",
       "      <td>...</td>\n",
       "      <td>...</td>\n",
       "    </tr>\n",
       "    <tr>\n",
       "      <th>2516</th>\n",
       "      <td>8.420726</td>\n",
       "      <td>11.611983</td>\n",
       "      <td>10.111095</td>\n",
       "      <td>5.676508</td>\n",
       "      <td>9.045846</td>\n",
       "      <td>4.787703</td>\n",
       "      <td>7.771865</td>\n",
       "      <td>3.714207</td>\n",
       "      <td>11.316326</td>\n",
       "      <td>4.046700</td>\n",
       "      <td>...</td>\n",
       "      <td>7.747175</td>\n",
       "      <td>5.955470</td>\n",
       "      <td>8.009011</td>\n",
       "      <td>8.954508</td>\n",
       "      <td>6.525826</td>\n",
       "      <td>4.308727</td>\n",
       "      <td>6.390663</td>\n",
       "      <td>3.606966</td>\n",
       "      <td>4.903014</td>\n",
       "      <td>8.438423</td>\n",
       "    </tr>\n",
       "    <tr>\n",
       "      <th>2517</th>\n",
       "      <td>8.420493</td>\n",
       "      <td>11.700496</td>\n",
       "      <td>10.153777</td>\n",
       "      <td>5.652570</td>\n",
       "      <td>8.935476</td>\n",
       "      <td>4.809465</td>\n",
       "      <td>7.724760</td>\n",
       "      <td>3.725057</td>\n",
       "      <td>11.341465</td>\n",
       "      <td>4.035712</td>\n",
       "      <td>...</td>\n",
       "      <td>7.752342</td>\n",
       "      <td>5.962784</td>\n",
       "      <td>8.067937</td>\n",
       "      <td>9.032318</td>\n",
       "      <td>6.644813</td>\n",
       "      <td>4.279975</td>\n",
       "      <td>6.390710</td>\n",
       "      <td>3.601290</td>\n",
       "      <td>4.931689</td>\n",
       "      <td>8.536809</td>\n",
       "    </tr>\n",
       "    <tr>\n",
       "      <th>2518</th>\n",
       "      <td>8.374867</td>\n",
       "      <td>11.670781</td>\n",
       "      <td>10.137370</td>\n",
       "      <td>5.639420</td>\n",
       "      <td>9.024120</td>\n",
       "      <td>4.806768</td>\n",
       "      <td>7.803944</td>\n",
       "      <td>3.706912</td>\n",
       "      <td>11.398489</td>\n",
       "      <td>4.089600</td>\n",
       "      <td>...</td>\n",
       "      <td>7.754330</td>\n",
       "      <td>6.066454</td>\n",
       "      <td>8.055008</td>\n",
       "      <td>9.055496</td>\n",
       "      <td>6.670966</td>\n",
       "      <td>4.288753</td>\n",
       "      <td>6.357184</td>\n",
       "      <td>3.630526</td>\n",
       "      <td>4.912383</td>\n",
       "      <td>8.659770</td>\n",
       "    </tr>\n",
       "    <tr>\n",
       "      <th>2519</th>\n",
       "      <td>8.354250</td>\n",
       "      <td>11.684080</td>\n",
       "      <td>10.125499</td>\n",
       "      <td>5.598915</td>\n",
       "      <td>8.966307</td>\n",
       "      <td>4.787661</td>\n",
       "      <td>7.836225</td>\n",
       "      <td>3.720125</td>\n",
       "      <td>11.392623</td>\n",
       "      <td>4.087329</td>\n",
       "      <td>...</td>\n",
       "      <td>7.813919</td>\n",
       "      <td>6.059155</td>\n",
       "      <td>7.983991</td>\n",
       "      <td>9.016677</td>\n",
       "      <td>6.688606</td>\n",
       "      <td>4.297790</td>\n",
       "      <td>6.377630</td>\n",
       "      <td>3.633434</td>\n",
       "      <td>4.972302</td>\n",
       "      <td>8.618798</td>\n",
       "    </tr>\n",
       "    <tr>\n",
       "      <th>2520</th>\n",
       "      <td>8.372470</td>\n",
       "      <td>11.577255</td>\n",
       "      <td>10.160723</td>\n",
       "      <td>5.636996</td>\n",
       "      <td>9.086293</td>\n",
       "      <td>4.806341</td>\n",
       "      <td>7.884128</td>\n",
       "      <td>3.732285</td>\n",
       "      <td>11.424093</td>\n",
       "      <td>4.134275</td>\n",
       "      <td>...</td>\n",
       "      <td>7.858838</td>\n",
       "      <td>5.962581</td>\n",
       "      <td>7.944218</td>\n",
       "      <td>9.019606</td>\n",
       "      <td>6.664226</td>\n",
       "      <td>4.340472</td>\n",
       "      <td>6.276894</td>\n",
       "      <td>3.677496</td>\n",
       "      <td>4.963272</td>\n",
       "      <td>8.607764</td>\n",
       "    </tr>\n",
       "  </tbody>\n",
       "</table>\n",
       "<p>2521 rows × 500 columns</p>\n",
       "</div>"
      ],
      "text/plain": [
       "           0          1          2         3         4         5         6    \\\n",
       "0     1.000000   1.000000   1.000000  1.000000  1.000000  1.000000  1.000000   \n",
       "1     0.991908   1.014580   0.995637  0.993925  1.005070  1.001798  1.012308   \n",
       "2     0.993293   1.019369   0.994215  1.000654  0.998711  0.996889  0.997447   \n",
       "3     0.989501   1.016527   0.982498  1.006492  1.001951  1.005960  1.000979   \n",
       "4     0.989772   1.024061   0.974756  1.008997  0.996309  1.010968  1.005585   \n",
       "...        ...        ...        ...       ...       ...       ...       ...   \n",
       "2516  8.420726  11.611983  10.111095  5.676508  9.045846  4.787703  7.771865   \n",
       "2517  8.420493  11.700496  10.153777  5.652570  8.935476  4.809465  7.724760   \n",
       "2518  8.374867  11.670781  10.137370  5.639420  9.024120  4.806768  7.803944   \n",
       "2519  8.354250  11.684080  10.125499  5.598915  8.966307  4.787661  7.836225   \n",
       "2520  8.372470  11.577255  10.160723  5.636996  9.086293  4.806341  7.884128   \n",
       "\n",
       "           7          8         9    ...       490       491       492  \\\n",
       "0     1.000000   1.000000  1.000000  ...  1.000000  1.000000  1.000000   \n",
       "1     1.004155   1.006987  0.989928  ...  0.990440  0.999368  1.003677   \n",
       "2     0.994361   1.013630  0.982234  ...  0.984553  0.996196  1.017170   \n",
       "3     0.995244   1.007299  0.984167  ...  0.989364  0.999745  1.013444   \n",
       "4     0.997830   1.010179  0.980061  ...  0.982020  0.996285  1.009310   \n",
       "...        ...        ...       ...  ...       ...       ...       ...   \n",
       "2516  3.714207  11.316326  4.046700  ...  7.747175  5.955470  8.009011   \n",
       "2517  3.725057  11.341465  4.035712  ...  7.752342  5.962784  8.067937   \n",
       "2518  3.706912  11.398489  4.089600  ...  7.754330  6.066454  8.055008   \n",
       "2519  3.720125  11.392623  4.087329  ...  7.813919  6.059155  7.983991   \n",
       "2520  3.732285  11.424093  4.134275  ...  7.858838  5.962581  7.944218   \n",
       "\n",
       "           493       494       495       496       497       498       499  \n",
       "0     1.000000  1.000000  1.000000  1.000000  1.000000  1.000000  1.000000  \n",
       "1     0.989554  1.005413  0.999113  1.000448  0.997570  0.988996  1.003951  \n",
       "2     0.992226  1.004665  0.996313  0.995688  0.996226  0.983785  1.005083  \n",
       "3     0.985771  1.006019  0.994278  1.001776  1.009579  0.982875  1.006603  \n",
       "4     0.993066  1.001469  1.002261  1.002095  1.007812  0.986298  1.002991  \n",
       "...        ...       ...       ...       ...       ...       ...       ...  \n",
       "2516  8.954508  6.525826  4.308727  6.390663  3.606966  4.903014  8.438423  \n",
       "2517  9.032318  6.644813  4.279975  6.390710  3.601290  4.931689  8.536809  \n",
       "2518  9.055496  6.670966  4.288753  6.357184  3.630526  4.912383  8.659770  \n",
       "2519  9.016677  6.688606  4.297790  6.377630  3.633434  4.972302  8.618798  \n",
       "2520  9.019606  6.664226  4.340472  6.276894  3.677496  4.963272  8.607764  \n",
       "\n",
       "[2521 rows x 500 columns]"
      ]
     },
     "execution_count": 86,
     "metadata": {},
     "output_type": "execute_result"
    }
   ],
   "source": [
    "# Run the Monte Carlo simulation to forecast 10 years cumulative returns\n",
    "MC_tenyear.calc_cumulative_return()\n"
   ]
  },
  {
   "cell_type": "code",
   "execution_count": 88,
   "metadata": {},
   "outputs": [
    {
     "data": {
      "image/png": "[encoded data removed]",
      "text/plain": [
       "<Figure size 432x288 with 1 Axes>"
      ]
     },
     "metadata": {
      "needs_background": "light"
     },
     "output_type": "display_data"
    }
   ],
   "source": [
    "# Visualize the 10-year Monte Carlo simulation by creating an\n",
    "# overlay line plot\n",
    "MC_ten_line_plot = MC_tenyear.plot_simulation()\n"
   ]
  },
  {
   "cell_type": "code",
   "execution_count": 89,
   "metadata": {},
   "outputs": [
    {
     "data": {
      "image/png": "[encoded data removed]",
      "text/plain": [
       "<Figure size 432x288 with 1 Axes>"
      ]
     },
     "metadata": {
      "needs_background": "light"
     },
     "output_type": "display_data"
    }
   ],
   "source": [
    "# Visualize the probability distribution of the 10-year Monte Carlo simulation \n",
    "# by plotting a histogram\n",
    "MC_ten_distribution = MC_tenyear.plot_distribution()\n"
   ]
  },
  {
   "cell_type": "code",
   "execution_count": 90,
   "metadata": {},
   "outputs": [
    {
     "name": "stdout",
     "output_type": "stream",
     "text": [
      "count           500.000000\n",
      "mean              6.505252\n",
      "std               2.224549\n",
      "min               2.249153\n",
      "25%               4.908680\n",
      "50%               6.138367\n",
      "75%               7.859995\n",
      "max              14.593989\n",
      "95% CI Lower      3.067797\n",
      "95% CI Upper     11.720403\n",
      "Name: 2520, dtype: float64\n"
     ]
    }
   ],
   "source": [
    "# Generate summary statistics from the 10-year Monte Carlo simulation results\n",
    "# Save the results as a variable\n",
    "MC_tenyear_summary = MC_tenyear.summarize_cumulative_return()\n",
    "\n",
    "\n",
    "# Review the 10-year Monte Carlo summary statistics\n",
    "print(MC_tenyear_summary)"
   ]
  },
  {
   "cell_type": "markdown",
   "metadata": {},
   "source": [
    "### Answer the following questions:"
   ]
  },
  {
   "cell_type": "markdown",
   "metadata": {},
   "source": [
    "#### Question: Using the current value of only the stock and bond portion of the member's portfolio and the summary statistics that you generated from the new Monte Carlo simulation, what are the lower and upper bounds for the expected value of the portfolio (with the new weights) with a 95% confidence interval?"
   ]
  },
  {
   "cell_type": "code",
   "execution_count": 91,
   "metadata": {},
   "outputs": [
    {
     "data": {
      "text/plain": [
       "70158.79999999999"
      ]
     },
     "execution_count": 91,
     "metadata": {},
     "output_type": "execute_result"
    }
   ],
   "source": [
    "# Print the current balance of the stock and bond portion of the members portfolio\n",
    "total_stocks_bonds\n"
   ]
  },
  {
   "cell_type": "code",
   "execution_count": 93,
   "metadata": {},
   "outputs": [
    {
     "name": "stdout",
     "output_type": "stream",
     "text": [
      "There is a 95% chance that if you invest your total stock and bonds portfolio in the next thirty years your investment will fall between $ 215232.95 and $ 822289.44\n"
     ]
    }
   ],
   "source": [
    "# Use the lower and upper `95%` confidence intervals to calculate the range of the possible outcomes for the current stock/bond portfolio\n",
    "ci_lower_ten_cumulative_return = MC_tenyear_summary[8] * total_stocks_bonds\n",
    "ci_upper_ten_cumulative_return = MC_tenyear_summary[9] * total_stocks_bonds\n",
    "\n",
    "# Print the result of your calculations\n",
    "print(f'There is a 95% chance that if you invest your total stock and bonds portfolio in the next thirty years your investment will fall between ${ci_lower_ten_cumulative_return: .2f} and ${ci_upper_ten_cumulative_return: .2f}')\n"
   ]
  },
  {
   "cell_type": "markdown",
   "metadata": {},
   "source": [
    "#### Question: Will weighting the portfolio more heavily to stocks allow the credit union members to retire after only 10 years?"
   ]
  },
  {
   "cell_type": "raw",
   "metadata": {},
   "source": [
    "**Answer** # It will allow the credit union members to retire after only ten years as long as there is no significant volatility in the market."
   ]
  },
  {
   "cell_type": "code",
   "execution_count": null,
   "metadata": {},
   "outputs": [],
   "source": []
  }
 ],
 "metadata": {
  "kernelspec": {
   "display_name": "Python (dev)",
   "language": "python",
   "name": "dev"
  },
  "language_info": {
   "codemirror_mode": {
    "name": "ipython",
    "version": 3
   },
   "file_extension": ".py",
   "mimetype": "text/x-python",
   "name": "python",
   "nbconvert_exporter": "python",
   "pygments_lexer": "ipython3",
   "version": "3.7.9"
  }
 },
 "nbformat": 4,
 "nbformat_minor": 4
}
